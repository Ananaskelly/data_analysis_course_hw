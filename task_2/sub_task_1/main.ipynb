{
 "cells": [
  {
   "cell_type": "code",
   "execution_count": 1,
   "metadata": {
    "collapsed": false
   },
   "outputs": [],
   "source": [
    "import matplotlib.pyplot as plt\n",
    "import numpy as np\n",
    "import sys\n",
    "\n",
    "# path to project root\n",
    "sys.path.append('c:/users/ananasy/pycharmProjects/data_analysis/')\n",
    "\n",
    "from task_2.sub_task_1 import data_handler\n",
    "from task_2.sub_task_1 import utils\n",
    "from task_2.sub_task_1.peregudins_cube import struct_svm\n",
    "from task_2.sub_task_1.peregudins_cube import simple_svm"
   ]
  },
  {
   "cell_type": "code",
   "execution_count": 11,
   "metadata": {
    "collapsed": false
   },
   "outputs": [],
   "source": [
    "def run_simple():\n",
    "    dh = data_handler.DataHandler()\n",
    "    X_train, y_train = dh.get_lst_train()\n",
    "    X_train = np.array(X_train, dtype='int32')\n",
    "    y_train = np.array(y_train, dtype='int32')\n",
    "    simple_classifier = simple_svm.SimpleSVM(X_train, y_train, dh.CLASS_NUM, dh.DIM)\n",
    "\n",
    "    #################################################################\n",
    "    # get optimal learning rate with k-fold cross-validation\n",
    "    \n",
    "    alphas = [10**(-i) for i in range(5)]\n",
    "    classifier = lambda X, y: simple_svm.SimpleSVM(X, y, dh.CLASS_NUM, dh.DIM)\n",
    "    opt_alpha_idx = utils.k_fold_validation(X_train, y_train, alphas, 3, classifier)\n",
    "    print('Optimal regularization coefficient: {0}'.format(alphas[opt_alpha_idx]))\n",
    "    \n",
    "    #################################################################\n",
    "\n",
    "    simple_classifier.train(alphas[opt_alpha_idx])\n",
    "\n",
    "    X_test, y_test = dh.get_lst_test()\n",
    "\n",
    "    n = len(X_test)\n",
    "    score = 0\n",
    "    for idx, x in enumerate(X_test):\n",
    "        pred = simple_classifier.get_prediction(x)\n",
    "        if pred == y_test[idx]:\n",
    "            score += 1\n",
    "\n",
    "    print('Accuracy: {}'.format(score/n))"
   ]
  },
  {
   "cell_type": "markdown",
   "metadata": {},
   "source": [
    "### Simple svm training"
   ]
  },
  {
   "cell_type": "code",
   "execution_count": 12,
   "metadata": {
    "collapsed": false
   },
   "outputs": [
    {
     "name": "stdout",
     "output_type": "stream",
     "text": [
      "0.5013958682300391\n",
      "0.3986599664991625\n",
      "0.39382095663502703\n",
      "0.3900986413549228\n",
      "0.3921459147589801\n",
      "Optimal regularization coefficient: 0.001\n",
      "Accuracy: 0.6179746456591915\n"
     ]
    }
   ],
   "source": [
    "run_simple()"
   ]
  },
  {
   "cell_type": "code",
   "execution_count": 4,
   "metadata": {
    "collapsed": true
   },
   "outputs": [],
   "source": [
    "def run_struct():\n",
    "    dh = data_handler.DataHandler()\n",
    "\n",
    "    X, y = dh.get_train_set()\n",
    "    X, y_one_hot = dh.get_train_set_one_hot()\n",
    "    dim, class_num = dh.dim, dh.class_num\n",
    "\n",
    "    #################################################################\n",
    "    # get optimal learning rate with k-fold cross-validation\n",
    "\n",
    "    alphas = [10**(-i) for i in range(1, 6)]\n",
    "    classifier = lambda X, y, y_: struct_svm.StructSVM(X, y, y_, dh.CLASS_NUM, dh.DIM)\n",
    "    opt_alpha_idx = utils.k_fold_validation(X, y, alphas, 3, classifier, y_one_hot, True)\n",
    "    print('Optimal regularization coefficient: {0}'.format(alphas[opt_alpha_idx]))\n",
    "\n",
    "    #################################################################\n",
    "\n",
    "    ssvm = struct_svm.StructSVM(X, y, y_one_hot, class_num, dim)\n",
    "\n",
    "    ssvm.train(reg_step=alphas[opt_alpha_idx])\n",
    "\n",
    "    x_test, y_test = dh.get_test_set()\n",
    "\n",
    "    mean_loss = 0\n",
    "    for idx, sample in enumerate(x_test):\n",
    "        y_pred = ssvm.get_prediction(sample)\n",
    "        mean_loss += ssvm.hamming_loss_(y_test[idx], y_pred)\n",
    "\n",
    "    print(\"Mean loss: {}\".format(mean_loss/x_test.shape[0]))\n",
    "\n",
    "    A_matrix = ssvm.A_matrix\n",
    "    plt.matshow(A_matrix)\n",
    "    plt.colorbar()\n",
    "    plt.title(\"A_matrix visualization\")\n",
    "    plt.xticks(np.arange(25), dh.dictionary)\n",
    "    plt.yticks(np.arange(25), dh.dictionary)\n",
    "    plt.show()"
   ]
  },
  {
   "cell_type": "markdown",
   "metadata": {},
   "source": [
    "### Structured svm training"
   ]
  },
  {
   "cell_type": "code",
   "execution_count": 5,
   "metadata": {
    "collapsed": false
   },
   "outputs": [
    {
     "name": "stdout",
     "output_type": "stream",
     "text": [
      "---------- Epoch 0 ----------\n"
     ]
    },
    {
     "name": "stdout",
     "output_type": "stream",
     "text": [
      "Current loss: 0.8223871105254082\n---------- Epoch 1 ----------\n"
     ]
    },
    {
     "name": "stdout",
     "output_type": "stream",
     "text": [
      "Current loss: 0.73723543595884\n---------- Epoch 2 ----------\n"
     ]
    },
    {
     "name": "stdout",
     "output_type": "stream",
     "text": [
      "Current loss: 0.7141089229919017\n---------- Epoch 3 ----------\n"
     ]
    },
    {
     "name": "stdout",
     "output_type": "stream",
     "text": [
      "Current loss: 0.6697743922743922\n---------- Epoch 4 ----------\n"
     ]
    },
    {
     "name": "stdout",
     "output_type": "stream",
     "text": [
      "Current loss: 0.7088198149368358\n---------- Epoch 5 ----------\n"
     ]
    },
    {
     "name": "stdout",
     "output_type": "stream",
     "text": [
      "Current loss: 0.6767452523835505\n---------- Epoch 6 ----------\n"
     ]
    },
    {
     "name": "stdout",
     "output_type": "stream",
     "text": [
      "Current loss: 0.6947070718879229\n---------- Epoch 7 ----------\n"
     ]
    },
    {
     "name": "stdout",
     "output_type": "stream",
     "text": [
      "Current loss: 0.6620180233478107\n---------- Epoch 8 ----------\n"
     ]
    },
    {
     "name": "stdout",
     "output_type": "stream",
     "text": [
      "Current loss: 0.6869940933770717\n---------- Epoch 9 ----------\n"
     ]
    },
    {
     "name": "stdout",
     "output_type": "stream",
     "text": [
      "Current loss: 0.7304365079365084\n"
     ]
    },
    {
     "name": "stdout",
     "output_type": "stream",
     "text": [
      "---------- Epoch 0 ----------\n"
     ]
    },
    {
     "name": "stdout",
     "output_type": "stream",
     "text": [
      "Current loss: 0.8647856812218521\n---------- Epoch 1 ----------\n"
     ]
    },
    {
     "name": "stdout",
     "output_type": "stream",
     "text": [
      "Current loss: 0.7673614506061318\n---------- Epoch 2 ----------\n"
     ]
    },
    {
     "name": "stdout",
     "output_type": "stream",
     "text": [
      "Current loss: 0.7190862506288043\n---------- Epoch 3 ----------\n"
     ]
    },
    {
     "name": "stdout",
     "output_type": "stream",
     "text": [
      "Current loss: 0.6941399853101985\n---------- Epoch 4 ----------\n"
     ]
    },
    {
     "name": "stdout",
     "output_type": "stream",
     "text": [
      "Current loss: 0.6758596722426511\n---------- Epoch 5 ----------\n"
     ]
    },
    {
     "name": "stdout",
     "output_type": "stream",
     "text": [
      "Current loss: 0.6505472069301853\n---------- Epoch 6 ----------\n"
     ]
    },
    {
     "name": "stdout",
     "output_type": "stream",
     "text": [
      "Current loss: 0.7093361071552561\n---------- Epoch 7 ----------\n"
     ]
    },
    {
     "name": "stdout",
     "output_type": "stream",
     "text": [
      "Current loss: 0.6798023312385019\n---------- Epoch 8 ----------\n"
     ]
    },
    {
     "name": "stdout",
     "output_type": "stream",
     "text": [
      "Current loss: 0.6661042739766144\n---------- Epoch 9 ----------\n"
     ]
    },
    {
     "name": "stdout",
     "output_type": "stream",
     "text": [
      "Current loss: 0.707052338914042\n"
     ]
    },
    {
     "name": "stdout",
     "output_type": "stream",
     "text": [
      "---------- Epoch 0 ----------\n"
     ]
    },
    {
     "name": "stdout",
     "output_type": "stream",
     "text": [
      "Current loss: 0.8802048601516693\n---------- Epoch 1 ----------\n"
     ]
    },
    {
     "name": "stdout",
     "output_type": "stream",
     "text": [
      "Current loss: 0.7766320027490244\n---------- Epoch 2 ----------\n"
     ]
    },
    {
     "name": "stdout",
     "output_type": "stream",
     "text": [
      "Current loss: 0.7056213467383681\n---------- Epoch 3 ----------\n"
     ]
    },
    {
     "name": "stdout",
     "output_type": "stream",
     "text": [
      "Current loss: 0.7194821844821838\n---------- Epoch 4 ----------\n"
     ]
    },
    {
     "name": "stdout",
     "output_type": "stream",
     "text": [
      "Current loss: 0.6593403877446435\n---------- Epoch 5 ----------\n"
     ]
    },
    {
     "name": "stdout",
     "output_type": "stream",
     "text": [
      "Current loss: 0.6660261251750615\n---------- Epoch 6 ----------\n"
     ]
    },
    {
     "name": "stdout",
     "output_type": "stream",
     "text": [
      "Current loss: 0.7193524737673672\n---------- Epoch 7 ----------\n"
     ]
    },
    {
     "name": "stdout",
     "output_type": "stream",
     "text": [
      "Current loss: 0.7296249081887385\n---------- Epoch 8 ----------\n"
     ]
    },
    {
     "name": "stdout",
     "output_type": "stream",
     "text": [
      "Current loss: 0.712579979122532\n---------- Epoch 9 ----------\n"
     ]
    },
    {
     "name": "stdout",
     "output_type": "stream",
     "text": [
      "Current loss: 0.7281098983758562\n"
     ]
    },
    {
     "name": "stdout",
     "output_type": "stream",
     "text": [
      "0.6849498791806482\n---------- Epoch 0 ----------\n"
     ]
    },
    {
     "name": "stdout",
     "output_type": "stream",
     "text": [
      "Current loss: 0.8245261653240374\n---------- Epoch 1 ----------\n"
     ]
    },
    {
     "name": "stdout",
     "output_type": "stream",
     "text": [
      "Current loss: 0.7341982721769952\n---------- Epoch 2 ----------\n"
     ]
    },
    {
     "name": "stdout",
     "output_type": "stream",
     "text": [
      "Current loss: 0.6906988342626635\n---------- Epoch 3 ----------\n"
     ]
    },
    {
     "name": "stdout",
     "output_type": "stream",
     "text": [
      "Current loss: 0.6618141964418562\n---------- Epoch 4 ----------\n"
     ]
    },
    {
     "name": "stdout",
     "output_type": "stream",
     "text": [
      "Current loss: 0.4797840162201866\n---------- Epoch 5 ----------\n"
     ]
    },
    {
     "name": "stdout",
     "output_type": "stream",
     "text": [
      "Current loss: 0.45286208472378686\n---------- Epoch 6 ----------\n"
     ]
    },
    {
     "name": "stdout",
     "output_type": "stream",
     "text": [
      "Current loss: 0.44668426136511263\n---------- Epoch 7 ----------\n"
     ]
    },
    {
     "name": "stdout",
     "output_type": "stream",
     "text": [
      "Current loss: 0.4305480748565858\n---------- Epoch 8 ----------\n"
     ]
    },
    {
     "name": "stdout",
     "output_type": "stream",
     "text": [
      "Current loss: 0.4284291417802056\n---------- Epoch 9 ----------\n"
     ]
    },
    {
     "name": "stdout",
     "output_type": "stream",
     "text": [
      "Current loss: 0.4327074403138234\n"
     ]
    },
    {
     "name": "stdout",
     "output_type": "stream",
     "text": [
      "---------- Epoch 0 ----------\n"
     ]
    },
    {
     "name": "stdout",
     "output_type": "stream",
     "text": [
      "Current loss: 0.8872931205909931\n---------- Epoch 1 ----------\n"
     ]
    },
    {
     "name": "stdout",
     "output_type": "stream",
     "text": [
      "Current loss: 0.7443189729891849\n---------- Epoch 2 ----------\n"
     ]
    },
    {
     "name": "stdout",
     "output_type": "stream",
     "text": [
      "Current loss: 0.6446239044643297\n---------- Epoch 3 ----------\n"
     ]
    },
    {
     "name": "stdout",
     "output_type": "stream",
     "text": [
      "Current loss: 0.5186208649506521\n---------- Epoch 4 ----------\n"
     ]
    },
    {
     "name": "stdout",
     "output_type": "stream",
     "text": [
      "Current loss: 0.473728115855776\n---------- Epoch 5 ----------\n"
     ]
    },
    {
     "name": "stdout",
     "output_type": "stream",
     "text": [
      "Current loss: 0.4269536373791695\n---------- Epoch 6 ----------\n"
     ]
    },
    {
     "name": "stdout",
     "output_type": "stream",
     "text": [
      "Current loss: 0.43923295971168297\n---------- Epoch 7 ----------\n"
     ]
    },
    {
     "name": "stdout",
     "output_type": "stream",
     "text": [
      "Current loss: 0.4116770994962489\n---------- Epoch 8 ----------\n"
     ]
    },
    {
     "name": "stdout",
     "output_type": "stream",
     "text": [
      "Current loss: 0.4037887703313238\n---------- Epoch 9 ----------\n"
     ]
    },
    {
     "name": "stdout",
     "output_type": "stream",
     "text": [
      "Current loss: 0.41470147464828316\n"
     ]
    },
    {
     "name": "stdout",
     "output_type": "stream",
     "text": [
      "---------- Epoch 0 ----------\n"
     ]
    },
    {
     "name": "stdout",
     "output_type": "stream",
     "text": [
      "Current loss: 0.8877279989514031\n---------- Epoch 1 ----------\n"
     ]
    },
    {
     "name": "stdout",
     "output_type": "stream",
     "text": [
      "Current loss: 0.7446414755457309\n---------- Epoch 2 ----------\n"
     ]
    },
    {
     "name": "stdout",
     "output_type": "stream",
     "text": [
      "Current loss: 0.6396108501427644\n---------- Epoch 3 ----------\n"
     ]
    },
    {
     "name": "stdout",
     "output_type": "stream",
     "text": [
      "Current loss: 0.5864772284453129\n---------- Epoch 4 ----------\n"
     ]
    },
    {
     "name": "stdout",
     "output_type": "stream",
     "text": [
      "Current loss: 0.5359647621881662\n---------- Epoch 5 ----------\n"
     ]
    },
    {
     "name": "stdout",
     "output_type": "stream",
     "text": [
      "Current loss: 0.4478797797946734\n---------- Epoch 6 ----------\n"
     ]
    },
    {
     "name": "stdout",
     "output_type": "stream",
     "text": [
      "Current loss: 0.4518544162693098\n---------- Epoch 7 ----------\n"
     ]
    },
    {
     "name": "stdout",
     "output_type": "stream",
     "text": [
      "Current loss: 0.437883806500828\n---------- Epoch 8 ----------\n"
     ]
    },
    {
     "name": "stdout",
     "output_type": "stream",
     "text": [
      "Current loss: 0.43268761380463555\n---------- Epoch 9 ----------\n"
     ]
    },
    {
     "name": "stdout",
     "output_type": "stream",
     "text": [
      "Current loss: 0.4314924555350087\n"
     ]
    },
    {
     "name": "stdout",
     "output_type": "stream",
     "text": [
      "0.4490678520593052\n---------- Epoch 0 ----------\n"
     ]
    },
    {
     "name": "stdout",
     "output_type": "stream",
     "text": [
      "Current loss: 0.8504580702984963\n---------- Epoch 1 ----------\n"
     ]
    },
    {
     "name": "stdout",
     "output_type": "stream",
     "text": [
      "Current loss: 0.719733582020816\n---------- Epoch 2 ----------\n"
     ]
    },
    {
     "name": "stdout",
     "output_type": "stream",
     "text": [
      "Current loss: 0.6605101281697024\n---------- Epoch 3 ----------\n"
     ]
    },
    {
     "name": "stdout",
     "output_type": "stream",
     "text": [
      "Current loss: 0.627312185450484\n---------- Epoch 4 ----------\n"
     ]
    },
    {
     "name": "stdout",
     "output_type": "stream",
     "text": [
      "Current loss: 0.5637422978912335\n---------- Epoch 5 ----------\n"
     ]
    },
    {
     "name": "stdout",
     "output_type": "stream",
     "text": [
      "Current loss: 0.4488118796097516\n---------- Epoch 6 ----------\n"
     ]
    },
    {
     "name": "stdout",
     "output_type": "stream",
     "text": [
      "Current loss: 0.44033504911164534\n---------- Epoch 7 ----------\n"
     ]
    },
    {
     "name": "stdout",
     "output_type": "stream",
     "text": [
      "Current loss: 0.4317751515623862\n---------- Epoch 8 ----------\n"
     ]
    },
    {
     "name": "stdout",
     "output_type": "stream",
     "text": [
      "Current loss: 0.42597822390375556\n---------- Epoch 9 ----------\n"
     ]
    },
    {
     "name": "stdout",
     "output_type": "stream",
     "text": [
      "Current loss: 0.427342810853449\n"
     ]
    },
    {
     "name": "stdout",
     "output_type": "stream",
     "text": [
      "---------- Epoch 0 ----------\n"
     ]
    },
    {
     "name": "stdout",
     "output_type": "stream",
     "text": [
      "Current loss: 0.8812237053726416\n---------- Epoch 1 ----------\n"
     ]
    },
    {
     "name": "stdout",
     "output_type": "stream",
     "text": [
      "Current loss: 0.7420884434714218\n---------- Epoch 2 ----------\n"
     ]
    },
    {
     "name": "stdout",
     "output_type": "stream",
     "text": [
      "Current loss: 0.6553314179909928\n---------- Epoch 3 ----------\n"
     ]
    },
    {
     "name": "stdout",
     "output_type": "stream",
     "text": [
      "Current loss: 0.5743245229947354\n---------- Epoch 4 ----------\n"
     ]
    },
    {
     "name": "stdout",
     "output_type": "stream",
     "text": [
      "Current loss: 0.5213030999733128\n---------- Epoch 5 ----------\n"
     ]
    },
    {
     "name": "stdout",
     "output_type": "stream",
     "text": [
      "Current loss: 0.44863664704090295\n---------- Epoch 6 ----------\n"
     ]
    },
    {
     "name": "stdout",
     "output_type": "stream",
     "text": [
      "Current loss: 0.42137339020317766\n---------- Epoch 7 ----------\n"
     ]
    },
    {
     "name": "stdout",
     "output_type": "stream",
     "text": [
      "Current loss: 0.39391862865267185\n---------- Epoch 8 ----------\n"
     ]
    },
    {
     "name": "stdout",
     "output_type": "stream",
     "text": [
      "Current loss: 0.3904165456293117\n---------- Epoch 9 ----------\n"
     ]
    },
    {
     "name": "stdout",
     "output_type": "stream",
     "text": [
      "Current loss: 0.38839646759859564\n"
     ]
    },
    {
     "name": "stdout",
     "output_type": "stream",
     "text": [
      "---------- Epoch 0 ----------\n"
     ]
    },
    {
     "name": "stdout",
     "output_type": "stream",
     "text": [
      "Current loss: 0.8763471339535175\n---------- Epoch 1 ----------\n"
     ]
    },
    {
     "name": "stdout",
     "output_type": "stream",
     "text": [
      "Current loss: 0.7504898942664902\n---------- Epoch 2 ----------\n"
     ]
    },
    {
     "name": "stdout",
     "output_type": "stream",
     "text": [
      "Current loss: 0.6605120529588614\n---------- Epoch 3 ----------\n"
     ]
    },
    {
     "name": "stdout",
     "output_type": "stream",
     "text": [
      "Current loss: 0.5915178851880979\n---------- Epoch 4 ----------\n"
     ]
    },
    {
     "name": "stdout",
     "output_type": "stream",
     "text": [
      "Current loss: 0.4969533598788922\n---------- Epoch 5 ----------\n"
     ]
    },
    {
     "name": "stdout",
     "output_type": "stream",
     "text": [
      "Current loss: 0.42679259865430064\n---------- Epoch 6 ----------\n"
     ]
    },
    {
     "name": "stdout",
     "output_type": "stream",
     "text": [
      "Current loss: 0.4227230098506695\n---------- Epoch 7 ----------\n"
     ]
    },
    {
     "name": "stdout",
     "output_type": "stream",
     "text": [
      "Current loss: 0.4072200199327858\n---------- Epoch 8 ----------\n"
     ]
    },
    {
     "name": "stdout",
     "output_type": "stream",
     "text": [
      "Current loss: 0.40815072043795514\n---------- Epoch 9 ----------\n"
     ]
    },
    {
     "name": "stdout",
     "output_type": "stream",
     "text": [
      "Current loss: 0.4085461819504378\n"
     ]
    },
    {
     "name": "stdout",
     "output_type": "stream",
     "text": [
      "0.4464392484691631\n---------- Epoch 0 ----------\n"
     ]
    },
    {
     "name": "stdout",
     "output_type": "stream",
     "text": [
      "Current loss: 0.841361599393515\n---------- Epoch 1 ----------\n"
     ]
    },
    {
     "name": "stdout",
     "output_type": "stream",
     "text": [
      "Current loss: 0.7441219714092047\n---------- Epoch 2 ----------\n"
     ]
    },
    {
     "name": "stdout",
     "output_type": "stream",
     "text": [
      "Current loss: 0.7088869168656403\n---------- Epoch 3 ----------\n"
     ]
    },
    {
     "name": "stdout",
     "output_type": "stream",
     "text": [
      "Current loss: 0.5944744971340704\n---------- Epoch 4 ----------\n"
     ]
    },
    {
     "name": "stdout",
     "output_type": "stream",
     "text": [
      "Current loss: 0.49994504904079345\n---------- Epoch 5 ----------\n"
     ]
    },
    {
     "name": "stdout",
     "output_type": "stream",
     "text": [
      "Current loss: 0.44346565373161123\n---------- Epoch 6 ----------\n"
     ]
    },
    {
     "name": "stdout",
     "output_type": "stream",
     "text": [
      "Current loss: 0.43607536080940346\n---------- Epoch 7 ----------\n"
     ]
    },
    {
     "name": "stdout",
     "output_type": "stream",
     "text": [
      "Current loss: 0.4169374183735888\n---------- Epoch 8 ----------\n"
     ]
    },
    {
     "name": "stdout",
     "output_type": "stream",
     "text": [
      "Current loss: 0.42189859195178403\n---------- Epoch 9 ----------\n"
     ]
    },
    {
     "name": "stdout",
     "output_type": "stream",
     "text": [
      "Current loss: 0.4239414309095161\n"
     ]
    },
    {
     "name": "stdout",
     "output_type": "stream",
     "text": [
      "---------- Epoch 0 ----------\n"
     ]
    },
    {
     "name": "stdout",
     "output_type": "stream",
     "text": [
      "Current loss: 0.8768623161708266\n---------- Epoch 1 ----------\n"
     ]
    },
    {
     "name": "stdout",
     "output_type": "stream",
     "text": [
      "Current loss: 0.7479235067532941\n---------- Epoch 2 ----------\n"
     ]
    },
    {
     "name": "stdout",
     "output_type": "stream",
     "text": [
      "Current loss: 0.6945421481591693\n---------- Epoch 3 ----------\n"
     ]
    },
    {
     "name": "stdout",
     "output_type": "stream",
     "text": [
      "Current loss: 0.564615927807417\n---------- Epoch 4 ----------\n"
     ]
    },
    {
     "name": "stdout",
     "output_type": "stream",
     "text": [
      "Current loss: 0.5014442413378586\n---------- Epoch 5 ----------\n"
     ]
    },
    {
     "name": "stdout",
     "output_type": "stream",
     "text": [
      "Current loss: 0.43349290780141886\n---------- Epoch 6 ----------\n"
     ]
    },
    {
     "name": "stdout",
     "output_type": "stream",
     "text": [
      "Current loss: 0.40075728644877634\n---------- Epoch 7 ----------\n"
     ]
    },
    {
     "name": "stdout",
     "output_type": "stream",
     "text": [
      "Current loss: 0.38217179392711365\n---------- Epoch 8 ----------\n"
     ]
    },
    {
     "name": "stdout",
     "output_type": "stream",
     "text": [
      "Current loss: 0.38514205062077417\n---------- Epoch 9 ----------\n"
     ]
    },
    {
     "name": "stdout",
     "output_type": "stream",
     "text": [
      "Current loss: 0.3828044355172018\n"
     ]
    },
    {
     "name": "stdout",
     "output_type": "stream",
     "text": [
      "---------- Epoch 0 ----------\n"
     ]
    },
    {
     "name": "stdout",
     "output_type": "stream",
     "text": [
      "Current loss: 0.8746801307439612\n---------- Epoch 1 ----------\n"
     ]
    },
    {
     "name": "stdout",
     "output_type": "stream",
     "text": [
      "Current loss: 0.7872359496295672\n---------- Epoch 2 ----------\n"
     ]
    },
    {
     "name": "stdout",
     "output_type": "stream",
     "text": [
      "Current loss: 0.6503930761909485\n---------- Epoch 3 ----------\n"
     ]
    },
    {
     "name": "stdout",
     "output_type": "stream",
     "text": [
      "Current loss: 0.6076173826173823\n---------- Epoch 4 ----------\n"
     ]
    },
    {
     "name": "stdout",
     "output_type": "stream",
     "text": [
      "Current loss: 0.5038726344577407\n---------- Epoch 5 ----------\n"
     ]
    },
    {
     "name": "stdout",
     "output_type": "stream",
     "text": [
      "Current loss: 0.4254021156148818\n---------- Epoch 6 ----------\n"
     ]
    },
    {
     "name": "stdout",
     "output_type": "stream",
     "text": [
      "Current loss: 0.4264600234281083\n---------- Epoch 7 ----------\n"
     ]
    },
    {
     "name": "stdout",
     "output_type": "stream",
     "text": [
      "Current loss: 0.41752147970233083\n---------- Epoch 8 ----------\n"
     ]
    },
    {
     "name": "stdout",
     "output_type": "stream",
     "text": [
      "Current loss: 0.4053595931255512\n---------- Epoch 9 ----------\n"
     ]
    },
    {
     "name": "stdout",
     "output_type": "stream",
     "text": [
      "Current loss: 0.41042004685621736\n"
     ]
    },
    {
     "name": "stdout",
     "output_type": "stream",
     "text": [
      "0.45624700560598014\n---------- Epoch 0 ----------\n"
     ]
    },
    {
     "name": "stdout",
     "output_type": "stream",
     "text": [
      "Current loss: 0.8419960535917983\n---------- Epoch 1 ----------\n"
     ]
    },
    {
     "name": "stdout",
     "output_type": "stream",
     "text": [
      "Current loss: 0.7106825385016884\n---------- Epoch 2 ----------\n"
     ]
    },
    {
     "name": "stdout",
     "output_type": "stream",
     "text": [
      "Current loss: 0.725775241307157\n---------- Epoch 3 ----------\n"
     ]
    },
    {
     "name": "stdout",
     "output_type": "stream",
     "text": [
      "Current loss: 0.6342012184033456\n---------- Epoch 4 ----------\n"
     ]
    },
    {
     "name": "stdout",
     "output_type": "stream",
     "text": [
      "Current loss: 0.520908352876438\n---------- Epoch 5 ----------\n"
     ]
    },
    {
     "name": "stdout",
     "output_type": "stream",
     "text": [
      "Current loss: 0.44567459136608106\n---------- Epoch 6 ----------\n"
     ]
    },
    {
     "name": "stdout",
     "output_type": "stream",
     "text": [
      "Current loss: 0.44454018794444305\n---------- Epoch 7 ----------\n"
     ]
    },
    {
     "name": "stdout",
     "output_type": "stream",
     "text": [
      "Current loss: 0.42124455922328274\n---------- Epoch 8 ----------\n"
     ]
    },
    {
     "name": "stdout",
     "output_type": "stream",
     "text": [
      "Current loss: 0.4215681894937219\n---------- Epoch 9 ----------\n"
     ]
    },
    {
     "name": "stdout",
     "output_type": "stream",
     "text": [
      "Current loss: 0.4169164582462457\n"
     ]
    },
    {
     "name": "stdout",
     "output_type": "stream",
     "text": [
      "---------- Epoch 0 ----------\n"
     ]
    },
    {
     "name": "stdout",
     "output_type": "stream",
     "text": [
      "Current loss: 0.8730791371748816\n---------- Epoch 1 ----------\n"
     ]
    },
    {
     "name": "stdout",
     "output_type": "stream",
     "text": [
      "Current loss: 0.7555776670138381\n---------- Epoch 2 ----------\n"
     ]
    },
    {
     "name": "stdout",
     "output_type": "stream",
     "text": [
      "Current loss: 0.660368992709418\n---------- Epoch 3 ----------\n"
     ]
    },
    {
     "name": "stdout",
     "output_type": "stream",
     "text": [
      "Current loss: 0.57219243522435\n---------- Epoch 4 ----------\n"
     ]
    },
    {
     "name": "stdout",
     "output_type": "stream",
     "text": [
      "Current loss: 0.49684382402467486\n---------- Epoch 5 ----------\n"
     ]
    },
    {
     "name": "stdout",
     "output_type": "stream",
     "text": [
      "Current loss: 0.43353644582368006\n---------- Epoch 6 ----------\n"
     ]
    },
    {
     "name": "stdout",
     "output_type": "stream",
     "text": [
      "Current loss: 0.41541727775770343\n---------- Epoch 7 ----------\n"
     ]
    },
    {
     "name": "stdout",
     "output_type": "stream",
     "text": [
      "Current loss: 0.41477218408069483\n---------- Epoch 8 ----------\n"
     ]
    },
    {
     "name": "stdout",
     "output_type": "stream",
     "text": [
      "Current loss: 0.4074930388760183\n---------- Epoch 9 ----------\n"
     ]
    },
    {
     "name": "stdout",
     "output_type": "stream",
     "text": [
      "Current loss: 0.41188436858649663\n"
     ]
    },
    {
     "name": "stdout",
     "output_type": "stream",
     "text": [
      "---------- Epoch 0 ----------\n"
     ]
    },
    {
     "name": "stdout",
     "output_type": "stream",
     "text": [
      "Current loss: 0.8775581983028794\n---------- Epoch 1 ----------\n"
     ]
    },
    {
     "name": "stdout",
     "output_type": "stream",
     "text": [
      "Current loss: 0.7715945992541735\n---------- Epoch 2 ----------\n"
     ]
    },
    {
     "name": "stdout",
     "output_type": "stream",
     "text": [
      "Current loss: 0.6955268313247033\n---------- Epoch 3 ----------\n"
     ]
    },
    {
     "name": "stdout",
     "output_type": "stream",
     "text": [
      "Current loss: 0.587881999796893\n---------- Epoch 4 ----------\n"
     ]
    },
    {
     "name": "stdout",
     "output_type": "stream",
     "text": [
      "Current loss: 0.5125125937891898\n---------- Epoch 5 ----------\n"
     ]
    },
    {
     "name": "stdout",
     "output_type": "stream",
     "text": [
      "Current loss: 0.4257876225429417\n---------- Epoch 6 ----------\n"
     ]
    },
    {
     "name": "stdout",
     "output_type": "stream",
     "text": [
      "Current loss: 0.4090232167359826\n---------- Epoch 7 ----------\n"
     ]
    },
    {
     "name": "stdout",
     "output_type": "stream",
     "text": [
      "Current loss: 0.3891699789572129\n---------- Epoch 8 ----------\n"
     ]
    },
    {
     "name": "stdout",
     "output_type": "stream",
     "text": [
      "Current loss: 0.3918477916882171\n---------- Epoch 9 ----------\n"
     ]
    },
    {
     "name": "stdout",
     "output_type": "stream",
     "text": [
      "Current loss: 0.3896683930726485\n"
     ]
    },
    {
     "name": "stdout",
     "output_type": "stream",
     "text": [
      "0.445704999337478\nOptimal regularization coefficient: 1e-05\n---------- Epoch 0 ----------\n"
     ]
    },
    {
     "name": "stdout",
     "output_type": "stream",
     "text": [
      "Current loss: 0.847514027166016\n---------- Epoch 1 ----------\n"
     ]
    },
    {
     "name": "stdout",
     "output_type": "stream",
     "text": [
      "Current loss: 0.6602734859837144\n---------- Epoch 2 ----------\n"
     ]
    },
    {
     "name": "stdout",
     "output_type": "stream",
     "text": [
      "Current loss: 0.5637449356199357\n---------- Epoch 3 ----------\n"
     ]
    },
    {
     "name": "stdout",
     "output_type": "stream",
     "text": [
      "Current loss: 0.49378968569309445\n---------- Epoch 4 ----------\n"
     ]
    },
    {
     "name": "stdout",
     "output_type": "stream",
     "text": [
      "Current loss: 0.41720139866446665\n---------- Epoch 5 ----------\n"
     ]
    },
    {
     "name": "stdout",
     "output_type": "stream",
     "text": [
      "Current loss: 0.410708810602277\n---------- Epoch 6 ----------\n"
     ]
    },
    {
     "name": "stdout",
     "output_type": "stream",
     "text": [
      "Current loss: 0.41242138937451495\n---------- Epoch 7 ----------\n"
     ]
    },
    {
     "name": "stdout",
     "output_type": "stream",
     "text": [
      "Current loss: 0.4226187992878332\n---------- Epoch 8 ----------\n"
     ]
    },
    {
     "name": "stdout",
     "output_type": "stream",
     "text": [
      "Current loss: 0.42483023605182696\n---------- Epoch 9 ----------\n"
     ]
    },
    {
     "name": "stdout",
     "output_type": "stream",
     "text": [
      "Current loss: 0.43446522700784057\n"
     ]
    },
    {
     "name": "stdout",
     "output_type": "stream",
     "text": [
      "Mean loss: 0.4436282497314396\n"
     ]
    },
    {
     "data": {
      "image/png": "[encoded data removed]",
      "text/plain": [
       "<matplotlib.figure.Figure at 0x16ff5a09be0>"
      ]
     },
     "metadata": {},
     "output_type": "display_data"
    }
   ],
   "source": [
    "run_struct()"
   ]
  },
  {
   "cell_type": "markdown",
   "metadata": {},
   "source": [
    "### Check gradient on random generated dataset"
   ]
  },
  {
   "cell_type": "code",
   "execution_count": 5,
   "metadata": {},
   "outputs": [
    {
     "name": "stdout",
     "output_type": "stream",
     "text": [
      "[[ -2.69812161e-01  -2.69812166e-01]\n [ -1.52588721e+00  -1.52588715e+00]\n [ -6.26509699e-01  -6.26509656e-01]\n [  1.12302455e-01   1.12302458e-01]\n [ -9.38977163e-02  -9.38976883e-02]\n [  2.97158484e-02   2.97158326e-02]\n [  1.85064217e-01   1.85064165e-01]\n [  2.87179092e-01   2.87179062e-01]\n [ -3.53965937e-01  -3.53965915e-01]\n [  9.65024407e-02   9.65024391e-02]\n [  9.58807727e-02   9.58807524e-02]\n [ -1.25133994e-01  -1.25133965e-01]\n [  3.88895200e-02   3.88895096e-02]\n [ -1.29433102e-01  -1.29433106e-01]\n [ -4.01456033e-02  -4.01456028e-02]\n [  4.74306594e-02   4.74306635e-02]\n [  4.27992006e-02   4.27991619e-02]\n [  3.81722618e-02   3.81722732e-02]\n [  8.94941099e-02   8.94940973e-02]\n [ -2.58866484e-02  -2.58866389e-02]\n [  2.02963637e-02   2.02963771e-02]\n [ -5.14553822e-01  -5.14553829e-01]\n [  1.06970786e+00   1.06970784e+00]\n [  1.19049307e+00   1.19049306e+00]\n [  2.14290026e-01   2.14289984e-01]\n [  2.29840067e-01   2.29840048e-01]\n [ -1.89669593e-01  -1.89669583e-01]\n [  3.92735622e-04   3.92723027e-04]\n [  4.96977446e-02   4.96977369e-02]\n [  5.67471314e-02   5.67471445e-02]]\n"
     ]
    }
   ],
   "source": [
    "ssvm = struct_svm.StructSVM()\n",
    "_, n, a = ssvm.check_grad(3, 10)\n",
    "print(np.c_[n[:3*10], a[:3*10]])"
   ]
  }
 ],
 "metadata": {
  "anaconda-cloud": {},
  "kernelspec": {
   "display_name": "Python [default]",
   "language": "python",
   "name": "python3"
  }
 },
 "nbformat": 4,
 "nbformat_minor": 0
}