{
 "cells": [
  {
   "cell_type": "code",
   "execution_count": 1,
   "metadata": {
    "collapsed": false
   },
   "outputs": [],
   "source": [
    "import matplotlib.pyplot as plt\n",
    "import numpy as np\n",
    "import sys\n",
    "\n",
    "\n",
    "from pystruct.datasets import load_letters\n",
    "from pystruct.models import ChainCRF\n",
    "from pystruct.learners import FrankWolfeSSVM\n",
    "\n",
    "# path to project root\n",
    "sys.path.append('c:/users/ananasy/pycharmProjects/data_analysis/')\n",
    "\n",
    "from task_2.sub_task_1 import data_handler\n",
    "from task_2.sub_task_1 import utils\n",
    "from task_2.sub_task_1.peregudins_cube import struct_svm\n",
    "from task_2.sub_task_1.peregudins_cube import multiclass_svm"
   ]
  },
  {
   "cell_type": "code",
   "execution_count": 4,
   "metadata": {
    "collapsed": false
   },
   "outputs": [],
   "source": [
    "def run_simple():\n",
    "    dh = data_handler.DataHandler()\n",
    "    X_train, y_train = dh.get_lst_train()\n",
    "    X_train = np.array(X_train, dtype='int32')\n",
    "    y_train = np.array(y_train, dtype='int32')\n",
    "    simple_classifier = multiclass_svm.MultiClassSVM(X_train, y_train, dh.CLASS_NUM, dh.DIM)\n",
    "\n",
    "    #################################################################\n",
    "    # get optimal learning rate with k-fold cross-validation\n",
    "    \n",
    "    alphas = [10**(-i) for i in range(5)]\n",
    "    classifier = lambda X, y: multiclass_svm.MultiClassSVM(X, y, dh.CLASS_NUM, dh.DIM)\n",
    "    opt_alpha_idx = utils.k_fold_validation(X_train, y_train, alphas, 3, classifier)\n",
    "    print('Optimal regularization coefficient: {0}'.format(alphas[opt_alpha_idx]))\n",
    "    \n",
    "    #################################################################\n",
    "\n",
    "    simple_classifier.train(alphas[opt_alpha_idx])\n",
    "\n",
    "    X_test, y_test = dh.get_lst_test()\n",
    "\n",
    "    n = len(X_test)\n",
    "    score = 0\n",
    "    for idx, x in enumerate(X_test):\n",
    "        pred = simple_classifier.get_prediction(x)\n",
    "        if pred == y_test[idx]:\n",
    "            score += 1\n",
    "\n",
    "    print('Accuracy: {}'.format(score/n))\n",
    "    \n",
    "    return simple_classifier"
   ]
  },
  {
   "cell_type": "markdown",
   "metadata": {},
   "source": [
    "### Simple svm training"
   ]
  },
  {
   "cell_type": "code",
   "execution_count": 5,
   "metadata": {
    "collapsed": false
   },
   "outputs": [
    {
     "name": "stdout",
     "output_type": "stream",
     "text": [
      "0.7632607481853713\n"
     ]
    },
    {
     "name": "stdout",
     "output_type": "stream",
     "text": [
      "0.42490228922389733\n"
     ]
    },
    {
     "name": "stdout",
     "output_type": "stream",
     "text": [
      "0.39791550344314164\n"
     ]
    },
    {
     "name": "stdout",
     "output_type": "stream",
     "text": [
      "0.3964265773310999\n"
     ]
    },
    {
     "name": "stdout",
     "output_type": "stream",
     "text": [
      "0.40219616601526154\nOptimal regularization coefficient: 0.001\n"
     ]
    },
    {
     "name": "stdout",
     "output_type": "stream",
     "text": [
      "Accuracy: 0.6135921499882421\n"
     ]
    }
   ],
   "source": [
    "simple_classifier = run_simple()"
   ]
  },
  {
   "cell_type": "code",
   "execution_count": 18,
   "metadata": {
    "collapsed": true
   },
   "outputs": [],
   "source": [
    "def run_struct():\n",
    "    dh = data_handler.DataHandler()\n",
    "\n",
    "    X, y = dh.get_train_set()\n",
    "    X, y_one_hot = dh.get_train_set_one_hot()\n",
    "    dim, class_num = dh.dim, dh.class_num\n",
    "\n",
    "    #################################################################\n",
    "    # get optimal learning rate with k-fold cross-validation\n",
    "\n",
    "    alphas = [10**(-i) for i in range(1, 6)]\n",
    "    classifier = lambda X, y, y_: struct_svm.StructSVM(X, y, y_, dh.CLASS_NUM, dh.DIM)\n",
    "    opt_alpha_idx = utils.k_fold_validation(X, y, alphas, 3, classifier, y_one_hot, True)\n",
    "    print('Optimal regularization coefficient: {0}'.format(alphas[opt_alpha_idx]))\n",
    "\n",
    "    #################################################################\n",
    "\n",
    "    ssvm = struct_svm.StructSVM(X, y, y_one_hot, class_num, dim)\n",
    "\n",
    "    ssvm.train(reg_step=alphas[opt_alpha_idx])\n",
    "\n",
    "    x_test, y_test = dh.get_test_set()\n",
    "\n",
    "    mean_loss = 0\n",
    "    for idx, sample in enumerate(x_test):\n",
    "        y_pred = ssvm.get_prediction(sample)\n",
    "        mean_loss += ssvm.hamming_loss_(y_test[idx], y_pred)\n",
    "    \n",
    "    mean_loss = mean_loss/x_test.shape[0]\n",
    "    print(\"Mean loss: {}\".format(mean_loss))\n",
    "\n",
    "    A_matrix = ssvm.A_matrix\n",
    "    plt.matshow(A_matrix)\n",
    "    plt.colorbar()\n",
    "    plt.title(\"A_matrix visualization\")\n",
    "    plt.xticks(np.arange(25), dh.dictionary)\n",
    "    plt.yticks(np.arange(25), dh.dictionary)\n",
    "    plt.show()\n",
    "    \n",
    "    return mean_loss, ssvm"
   ]
  },
  {
   "cell_type": "markdown",
   "metadata": {},
   "source": [
    "### Structured svm training"
   ]
  },
  {
   "cell_type": "code",
   "execution_count": 20,
   "metadata": {
    "collapsed": false
   },
   "outputs": [
    {
     "name": "stdout",
     "output_type": "stream",
     "text": [
      "---------- Epoch 0 ----------\n"
     ]
    },
    {
     "name": "stdout",
     "output_type": "stream",
     "text": [
      "Current loss: 0.8248612675740343\n---------- Epoch 1 ----------\n"
     ]
    },
    {
     "name": "stdout",
     "output_type": "stream",
     "text": [
      "Current loss: 0.67223408388302\n---------- Epoch 2 ----------\n"
     ]
    },
    {
     "name": "stdout",
     "output_type": "stream",
     "text": [
      "Current loss: 0.6690856129685914\n---------- Epoch 3 ----------\n"
     ]
    },
    {
     "name": "stdout",
     "output_type": "stream",
     "text": [
      "Current loss: 0.6131397975546922\n---------- Epoch 4 ----------\n"
     ]
    },
    {
     "name": "stdout",
     "output_type": "stream",
     "text": [
      "Current loss: 0.4733277242851717\n---------- Epoch 5 ----------\n"
     ]
    },
    {
     "name": "stdout",
     "output_type": "stream",
     "text": [
      "Current loss: 0.343438080831698\n---------- Epoch 6 ----------\n"
     ]
    },
    {
     "name": "stdout",
     "output_type": "stream",
     "text": [
      "Current loss: 0.3206228936548086\n---------- Epoch 7 ----------\n"
     ]
    },
    {
     "name": "stdout",
     "output_type": "stream",
     "text": [
      "Current loss: 0.29187898980452204\n---------- Epoch 8 ----------\n"
     ]
    },
    {
     "name": "stdout",
     "output_type": "stream",
     "text": [
      "Current loss: 0.2834945196647326\n---------- Epoch 9 ----------\n"
     ]
    },
    {
     "name": "stdout",
     "output_type": "stream",
     "text": [
      "Current loss: 0.27521580074771573\n---------- Epoch 10 ----------\n"
     ]
    },
    {
     "name": "stdout",
     "output_type": "stream",
     "text": [
      "Current loss: 0.26701720265550066\n---------- Epoch 11 ----------\n"
     ]
    },
    {
     "name": "stdout",
     "output_type": "stream",
     "text": [
      "Current loss: 0.25861105797276046\n---------- Epoch 12 ----------\n"
     ]
    },
    {
     "name": "stdout",
     "output_type": "stream",
     "text": [
      "Current loss: 0.25579267068628797\n---------- Epoch 13 ----------\n"
     ]
    },
    {
     "name": "stdout",
     "output_type": "stream",
     "text": [
      "Current loss: 0.25562777057457925\n---------- Epoch 14 ----------\n"
     ]
    },
    {
     "name": "stdout",
     "output_type": "stream",
     "text": [
      "Current loss: 0.25556631902376603\n---------- Epoch 0 ----------\n"
     ]
    },
    {
     "name": "stdout",
     "output_type": "stream",
     "text": [
      "Current loss: 0.869224740980061\n---------- Epoch 1 ----------\n"
     ]
    },
    {
     "name": "stdout",
     "output_type": "stream",
     "text": [
      "Current loss: 0.7377249936824405\n---------- Epoch 2 ----------\n"
     ]
    },
    {
     "name": "stdout",
     "output_type": "stream",
     "text": [
      "Current loss: 0.634210718359655\n---------- Epoch 3 ----------\n"
     ]
    },
    {
     "name": "stdout",
     "output_type": "stream",
     "text": [
      "Current loss: 0.5339436981458257\n---------- Epoch 4 ----------\n"
     ]
    },
    {
     "name": "stdout",
     "output_type": "stream",
     "text": [
      "Current loss: 0.41605627823712954\n---------- Epoch 5 ----------\n"
     ]
    },
    {
     "name": "stdout",
     "output_type": "stream",
     "text": [
      "Current loss: 0.3451756222500904\n---------- Epoch 6 ----------\n"
     ]
    },
    {
     "name": "stdout",
     "output_type": "stream",
     "text": [
      "Current loss: 0.30347823571227844\n---------- Epoch 7 ----------\n"
     ]
    },
    {
     "name": "stdout",
     "output_type": "stream",
     "text": [
      "Current loss: 0.2765919128153173\n---------- Epoch 8 ----------\n"
     ]
    },
    {
     "name": "stdout",
     "output_type": "stream",
     "text": [
      "Current loss: 0.2628724998405851\n---------- Epoch 9 ----------\n"
     ]
    },
    {
     "name": "stdout",
     "output_type": "stream",
     "text": [
      "Current loss: 0.2584217673579375\n---------- Epoch 10 ----------\n"
     ]
    },
    {
     "name": "stdout",
     "output_type": "stream",
     "text": [
      "Current loss: 0.2459234205510802\n---------- Epoch 11 ----------\n"
     ]
    },
    {
     "name": "stdout",
     "output_type": "stream",
     "text": [
      "Current loss: 0.2422899145771488\n---------- Epoch 12 ----------\n"
     ]
    },
    {
     "name": "stdout",
     "output_type": "stream",
     "text": [
      "Current loss: 0.23989610271525166\n---------- Epoch 13 ----------\n"
     ]
    },
    {
     "name": "stdout",
     "output_type": "stream",
     "text": [
      "Current loss: 0.23857001745299616\n---------- Epoch 14 ----------\n"
     ]
    },
    {
     "name": "stdout",
     "output_type": "stream",
     "text": [
      "Current loss: 0.23426647229838715\n---------- Epoch 0 ----------\n"
     ]
    },
    {
     "name": "stdout",
     "output_type": "stream",
     "text": [
      "Current loss: 0.8782656055528407\n---------- Epoch 1 ----------\n"
     ]
    },
    {
     "name": "stdout",
     "output_type": "stream",
     "text": [
      "Current loss: 0.7335178533050861\n---------- Epoch 2 ----------\n"
     ]
    },
    {
     "name": "stdout",
     "output_type": "stream",
     "text": [
      "Current loss: 0.600587090214749\n---------- Epoch 3 ----------\n"
     ]
    },
    {
     "name": "stdout",
     "output_type": "stream",
     "text": [
      "Current loss: 0.5271733467478154\n---------- Epoch 4 ----------\n"
     ]
    },
    {
     "name": "stdout",
     "output_type": "stream",
     "text": [
      "Current loss: 0.44276740989506963\n---------- Epoch 5 ----------\n"
     ]
    },
    {
     "name": "stdout",
     "output_type": "stream",
     "text": [
      "Current loss: 0.31760777048011113\n---------- Epoch 6 ----------\n"
     ]
    },
    {
     "name": "stdout",
     "output_type": "stream",
     "text": [
      "Current loss: 0.2969277412894435\n---------- Epoch 7 ----------\n"
     ]
    },
    {
     "name": "stdout",
     "output_type": "stream",
     "text": [
      "Current loss: 0.270632204674758\n---------- Epoch 8 ----------\n"
     ]
    },
    {
     "name": "stdout",
     "output_type": "stream",
     "text": [
      "Current loss: 0.2638880386752728\n---------- Epoch 9 ----------\n"
     ]
    },
    {
     "name": "stdout",
     "output_type": "stream",
     "text": [
      "Current loss: 0.25829193855789595\n---------- Epoch 10 ----------\n"
     ]
    },
    {
     "name": "stdout",
     "output_type": "stream",
     "text": [
      "Current loss: 0.24852544618502065\n---------- Epoch 11 ----------\n"
     ]
    },
    {
     "name": "stdout",
     "output_type": "stream",
     "text": [
      "Current loss: 0.24589111243366576\n---------- Epoch 12 ----------\n"
     ]
    },
    {
     "name": "stdout",
     "output_type": "stream",
     "text": [
      "Current loss: 0.2406340822298269\n---------- Epoch 13 ----------\n"
     ]
    },
    {
     "name": "stdout",
     "output_type": "stream",
     "text": [
      "Current loss: 0.23814882517010186\n---------- Epoch 14 ----------\n"
     ]
    },
    {
     "name": "stdout",
     "output_type": "stream",
     "text": [
      "Current loss: 0.23332620689003675\n0.31266865059600113\n---------- Epoch 0 ----------\n"
     ]
    },
    {
     "name": "stdout",
     "output_type": "stream",
     "text": [
      "Current loss: 0.8521975896443977\n---------- Epoch 1 ----------\n"
     ]
    },
    {
     "name": "stdout",
     "output_type": "stream",
     "text": [
      "Current loss: 0.7663448312916401\n---------- Epoch 2 ----------\n"
     ]
    },
    {
     "name": "stdout",
     "output_type": "stream",
     "text": [
      "Current loss: 0.6759955470061851\n---------- Epoch 3 ----------\n"
     ]
    },
    {
     "name": "stdout",
     "output_type": "stream",
     "text": [
      "Current loss: 0.5705901840476302\n---------- Epoch 4 ----------\n"
     ]
    },
    {
     "name": "stdout",
     "output_type": "stream",
     "text": [
      "Current loss: 0.41757513762832954\n---------- Epoch 5 ----------\n"
     ]
    },
    {
     "name": "stdout",
     "output_type": "stream",
     "text": [
      "Current loss: 0.3594348323071728\n---------- Epoch 6 ----------\n"
     ]
    },
    {
     "name": "stdout",
     "output_type": "stream",
     "text": [
      "Current loss: 0.3280063907723483\n---------- Epoch 7 ----------\n"
     ]
    },
    {
     "name": "stdout",
     "output_type": "stream",
     "text": [
      "Current loss: 0.3012587235459576\n---------- Epoch 8 ----------\n"
     ]
    },
    {
     "name": "stdout",
     "output_type": "stream",
     "text": [
      "Current loss: 0.2952820111330753\n---------- Epoch 9 ----------\n"
     ]
    },
    {
     "name": "stdout",
     "output_type": "stream",
     "text": [
      "Current loss: 0.2836669654222847\n---------- Epoch 10 ----------\n"
     ]
    },
    {
     "name": "stdout",
     "output_type": "stream",
     "text": [
      "Current loss: 0.27754668499349366\n---------- Epoch 11 ----------\n"
     ]
    },
    {
     "name": "stdout",
     "output_type": "stream",
     "text": [
      "Current loss: 0.271233913840297\n---------- Epoch 12 ----------\n"
     ]
    },
    {
     "name": "stdout",
     "output_type": "stream",
     "text": [
      "Current loss: 0.262303423526828\n---------- Epoch 13 ----------\n"
     ]
    },
    {
     "name": "stdout",
     "output_type": "stream",
     "text": [
      "Current loss: 0.260412719668039\n---------- Epoch 14 ----------\n"
     ]
    },
    {
     "name": "stdout",
     "output_type": "stream",
     "text": [
      "Current loss: 0.26044093022816456\n---------- Epoch 0 ----------\n"
     ]
    },
    {
     "name": "stdout",
     "output_type": "stream",
     "text": [
      "Current loss: 0.8611270349036316\n---------- Epoch 1 ----------\n"
     ]
    },
    {
     "name": "stdout",
     "output_type": "stream",
     "text": [
      "Current loss: 0.7798685239110775\n---------- Epoch 2 ----------\n"
     ]
    },
    {
     "name": "stdout",
     "output_type": "stream",
     "text": [
      "Current loss: 0.656673905290927\n---------- Epoch 3 ----------\n"
     ]
    },
    {
     "name": "stdout",
     "output_type": "stream",
     "text": [
      "Current loss: 0.5505069044430748\n---------- Epoch 4 ----------\n"
     ]
    },
    {
     "name": "stdout",
     "output_type": "stream",
     "text": [
      "Current loss: 0.4163042985383412\n---------- Epoch 5 ----------\n"
     ]
    },
    {
     "name": "stdout",
     "output_type": "stream",
     "text": [
      "Current loss: 0.34215792481749935\n---------- Epoch 6 ----------\n"
     ]
    },
    {
     "name": "stdout",
     "output_type": "stream",
     "text": [
      "Current loss: 0.3121620282790495\n---------- Epoch 7 ----------\n"
     ]
    },
    {
     "name": "stdout",
     "output_type": "stream",
     "text": [
      "Current loss: 0.28672536683175026\n---------- Epoch 8 ----------\n"
     ]
    },
    {
     "name": "stdout",
     "output_type": "stream",
     "text": [
      "Current loss: 0.28228565170054565\n---------- Epoch 9 ----------\n"
     ]
    },
    {
     "name": "stdout",
     "output_type": "stream",
     "text": [
      "Current loss: 0.2748989958032513\n---------- Epoch 10 ----------\n"
     ]
    },
    {
     "name": "stdout",
     "output_type": "stream",
     "text": [
      "Current loss: 0.26722765414254795\n---------- Epoch 11 ----------\n"
     ]
    },
    {
     "name": "stdout",
     "output_type": "stream",
     "text": [
      "Current loss: 0.26219167357465234\n---------- Epoch 12 ----------\n"
     ]
    },
    {
     "name": "stdout",
     "output_type": "stream",
     "text": [
      "Current loss: 0.2585113350006967\n---------- Epoch 13 ----------\n"
     ]
    },
    {
     "name": "stdout",
     "output_type": "stream",
     "text": [
      "Current loss: 0.25789332416992017\n---------- Epoch 14 ----------\n"
     ]
    },
    {
     "name": "stdout",
     "output_type": "stream",
     "text": [
      "Current loss: 0.2561974196016752\n"
     ]
    },
    {
     "name": "stdout",
     "output_type": "stream",
     "text": [
      "---------- Epoch 0 ----------\n"
     ]
    },
    {
     "name": "stdout",
     "output_type": "stream",
     "text": [
      "Current loss: 0.85505776138755\n---------- Epoch 1 ----------\n"
     ]
    },
    {
     "name": "stdout",
     "output_type": "stream",
     "text": [
      "Current loss: 0.7425746180533424\n---------- Epoch 2 ----------\n"
     ]
    },
    {
     "name": "stdout",
     "output_type": "stream",
     "text": [
      "Current loss: 0.6244544226459111\n---------- Epoch 3 ----------\n"
     ]
    },
    {
     "name": "stdout",
     "output_type": "stream",
     "text": [
      "Current loss: 0.5365551056508505\n---------- Epoch 4 ----------\n"
     ]
    },
    {
     "name": "stdout",
     "output_type": "stream",
     "text": [
      "Current loss: 0.41962721675487696\n---------- Epoch 5 ----------\n"
     ]
    },
    {
     "name": "stdout",
     "output_type": "stream",
     "text": [
      "Current loss: 0.3300027868112977\n---------- Epoch 6 ----------\n"
     ]
    },
    {
     "name": "stdout",
     "output_type": "stream",
     "text": [
      "Current loss: 0.31019968211457627\n---------- Epoch 7 ----------\n"
     ]
    },
    {
     "name": "stdout",
     "output_type": "stream",
     "text": [
      "Current loss: 0.29738039147613615\n---------- Epoch 8 ----------\n"
     ]
    },
    {
     "name": "stdout",
     "output_type": "stream",
     "text": [
      "Current loss: 0.28699878726474465\n---------- Epoch 9 ----------\n"
     ]
    },
    {
     "name": "stdout",
     "output_type": "stream",
     "text": [
      "Current loss: 0.284238497908711\n---------- Epoch 10 ----------\n"
     ]
    },
    {
     "name": "stdout",
     "output_type": "stream",
     "text": [
      "Current loss: 0.27498375147311344\n---------- Epoch 11 ----------\n"
     ]
    },
    {
     "name": "stdout",
     "output_type": "stream",
     "text": [
      "Current loss: 0.2676994695611717\n---------- Epoch 12 ----------\n"
     ]
    },
    {
     "name": "stdout",
     "output_type": "stream",
     "text": [
      "Current loss: 0.2633982979195747\n---------- Epoch 13 ----------\n"
     ]
    },
    {
     "name": "stdout",
     "output_type": "stream",
     "text": [
      "Current loss: 0.26056339051019917\n---------- Epoch 14 ----------\n"
     ]
    },
    {
     "name": "stdout",
     "output_type": "stream",
     "text": [
      "Current loss: 0.25554159788202363\n"
     ]
    },
    {
     "name": "stdout",
     "output_type": "stream",
     "text": [
      "0.3086022081748579\n---------- Epoch 0 ----------\n"
     ]
    },
    {
     "name": "stdout",
     "output_type": "stream",
     "text": [
      "Current loss: 0.8370705358471322\n---------- Epoch 1 ----------\n"
     ]
    },
    {
     "name": "stdout",
     "output_type": "stream",
     "text": [
      "Current loss: 0.7606233128573548\n---------- Epoch 2 ----------\n"
     ]
    },
    {
     "name": "stdout",
     "output_type": "stream",
     "text": [
      "Current loss: 0.6731062436381584\n---------- Epoch 3 ----------\n"
     ]
    },
    {
     "name": "stdout",
     "output_type": "stream",
     "text": [
      "Current loss: 0.5307611124100485\n---------- Epoch 4 ----------\n"
     ]
    },
    {
     "name": "stdout",
     "output_type": "stream",
     "text": [
      "Current loss: 0.3871113933347981\n---------- Epoch 5 ----------\n"
     ]
    },
    {
     "name": "stdout",
     "output_type": "stream",
     "text": [
      "Current loss: 0.33783476570710624\n---------- Epoch 6 ----------\n"
     ]
    },
    {
     "name": "stdout",
     "output_type": "stream",
     "text": [
      "Current loss: 0.320390289379651\n---------- Epoch 7 ----------\n"
     ]
    },
    {
     "name": "stdout",
     "output_type": "stream",
     "text": [
      "Current loss: 0.2939143067334561\n---------- Epoch 8 ----------\n"
     ]
    },
    {
     "name": "stdout",
     "output_type": "stream",
     "text": [
      "Current loss: 0.2805615838062649\n---------- Epoch 9 ----------\n"
     ]
    },
    {
     "name": "stdout",
     "output_type": "stream",
     "text": [
      "Current loss: 0.27113431485771916\n---------- Epoch 10 ----------\n"
     ]
    },
    {
     "name": "stdout",
     "output_type": "stream",
     "text": [
      "Current loss: 0.2626141647950159\n---------- Epoch 11 ----------\n"
     ]
    },
    {
     "name": "stdout",
     "output_type": "stream",
     "text": [
      "Current loss: 0.25774917753641163\n---------- Epoch 12 ----------\n"
     ]
    },
    {
     "name": "stdout",
     "output_type": "stream",
     "text": [
      "Current loss: 0.2542980541916714\n---------- Epoch 13 ----------\n"
     ]
    },
    {
     "name": "stdout",
     "output_type": "stream",
     "text": [
      "Current loss: 0.2540994643654219\n---------- Epoch 14 ----------\n"
     ]
    },
    {
     "name": "stdout",
     "output_type": "stream",
     "text": [
      "Current loss: 0.25004120583907824\n---------- Epoch 0 ----------\n"
     ]
    },
    {
     "name": "stdout",
     "output_type": "stream",
     "text": [
      "Current loss: 0.879998754200882\n---------- Epoch 1 ----------\n"
     ]
    },
    {
     "name": "stdout",
     "output_type": "stream",
     "text": [
      "Current loss: 0.7341287140755229\n---------- Epoch 2 ----------\n"
     ]
    },
    {
     "name": "stdout",
     "output_type": "stream",
     "text": [
      "Current loss: 0.6244052755754882\n---------- Epoch 3 ----------\n"
     ]
    },
    {
     "name": "stdout",
     "output_type": "stream",
     "text": [
      "Current loss: 0.5989384551618595\n---------- Epoch 4 ----------\n"
     ]
    },
    {
     "name": "stdout",
     "output_type": "stream",
     "text": [
      "Current loss: 0.5001214388448426\n---------- Epoch 5 ----------\n"
     ]
    },
    {
     "name": "stdout",
     "output_type": "stream",
     "text": [
      "Current loss: 0.3827719325591667\n---------- Epoch 6 ----------\n"
     ]
    },
    {
     "name": "stdout",
     "output_type": "stream",
     "text": [
      "Current loss: 0.3315022684171621\n---------- Epoch 7 ----------\n"
     ]
    },
    {
     "name": "stdout",
     "output_type": "stream",
     "text": [
      "Current loss: 0.31579539845497306\n---------- Epoch 8 ----------\n"
     ]
    },
    {
     "name": "stdout",
     "output_type": "stream",
     "text": [
      "Current loss: 0.3093389766262108\n---------- Epoch 9 ----------\n"
     ]
    },
    {
     "name": "stdout",
     "output_type": "stream",
     "text": [
      "Current loss: 0.29853426124702725\n---------- Epoch 10 ----------\n"
     ]
    },
    {
     "name": "stdout",
     "output_type": "stream",
     "text": [
      "Current loss: 0.2933218967793436\n---------- Epoch 11 ----------\n"
     ]
    },
    {
     "name": "stdout",
     "output_type": "stream",
     "text": [
      "Current loss: 0.28840270249844735\n---------- Epoch 12 ----------\n"
     ]
    },
    {
     "name": "stdout",
     "output_type": "stream",
     "text": [
      "Current loss: 0.28435303467218354\n---------- Epoch 13 ----------\n"
     ]
    },
    {
     "name": "stdout",
     "output_type": "stream",
     "text": [
      "Current loss: 0.28068149935171216\n---------- Epoch 14 ----------\n"
     ]
    },
    {
     "name": "stdout",
     "output_type": "stream",
     "text": [
      "Current loss: 0.2771813706388176\n---------- Epoch 0 ----------\n"
     ]
    },
    {
     "name": "stdout",
     "output_type": "stream",
     "text": [
      "Current loss: 0.8574053428840673\n---------- Epoch 1 ----------\n"
     ]
    },
    {
     "name": "stdout",
     "output_type": "stream",
     "text": [
      "Current loss: 0.7739503581524858\n---------- Epoch 2 ----------\n"
     ]
    },
    {
     "name": "stdout",
     "output_type": "stream",
     "text": [
      "Current loss: 0.5981078673099943\n---------- Epoch 3 ----------\n"
     ]
    },
    {
     "name": "stdout",
     "output_type": "stream",
     "text": [
      "Current loss: 0.49164582462454876\n---------- Epoch 4 ----------\n"
     ]
    },
    {
     "name": "stdout",
     "output_type": "stream",
     "text": [
      "Current loss: 0.36560632629781625\n---------- Epoch 5 ----------\n"
     ]
    },
    {
     "name": "stdout",
     "output_type": "stream",
     "text": [
      "Current loss: 0.3145500834862539\n---------- Epoch 6 ----------\n"
     ]
    },
    {
     "name": "stdout",
     "output_type": "stream",
     "text": [
      "Current loss: 0.2992194979960942\n---------- Epoch 7 ----------\n"
     ]
    },
    {
     "name": "stdout",
     "output_type": "stream",
     "text": [
      "Current loss: 0.27296179588732816\n---------- Epoch 8 ----------\n"
     ]
    },
    {
     "name": "stdout",
     "output_type": "stream",
     "text": [
      "Current loss: 0.27099570642123816\n---------- Epoch 9 ----------\n"
     ]
    },
    {
     "name": "stdout",
     "output_type": "stream",
     "text": [
      "Current loss: 0.2629054515224729\n---------- Epoch 10 ----------\n"
     ]
    },
    {
     "name": "stdout",
     "output_type": "stream",
     "text": [
      "Current loss: 0.2558167069337286\n---------- Epoch 11 ----------\n"
     ]
    },
    {
     "name": "stdout",
     "output_type": "stream",
     "text": [
      "Current loss: 0.2504233945723309\n---------- Epoch 12 ----------\n"
     ]
    },
    {
     "name": "stdout",
     "output_type": "stream",
     "text": [
      "Current loss: 0.24506824735548147\n---------- Epoch 13 ----------\n"
     ]
    },
    {
     "name": "stdout",
     "output_type": "stream",
     "text": [
      "Current loss: 0.2474370428625748\n---------- Epoch 14 ----------\n"
     ]
    },
    {
     "name": "stdout",
     "output_type": "stream",
     "text": [
      "Current loss: 0.24477248519801725\n0.3237482879576898\n---------- Epoch 0 ----------\n"
     ]
    },
    {
     "name": "stdout",
     "output_type": "stream",
     "text": [
      "Current loss: 0.8331948311735555\n---------- Epoch 1 ----------\n"
     ]
    },
    {
     "name": "stdout",
     "output_type": "stream",
     "text": [
      "Current loss: 0.731284135486263\n---------- Epoch 2 ----------\n"
     ]
    },
    {
     "name": "stdout",
     "output_type": "stream",
     "text": [
      "Current loss: 0.6903007394496756\n---------- Epoch 3 ----------\n"
     ]
    },
    {
     "name": "stdout",
     "output_type": "stream",
     "text": [
      "Current loss: 0.5326699541593161\n---------- Epoch 4 ----------\n"
     ]
    },
    {
     "name": "stdout",
     "output_type": "stream",
     "text": [
      "Current loss: 0.4171019760381464\n---------- Epoch 5 ----------\n"
     ]
    },
    {
     "name": "stdout",
     "output_type": "stream",
     "text": [
      "Current loss: 0.3248444109082408\n---------- Epoch 6 ----------\n"
     ]
    },
    {
     "name": "stdout",
     "output_type": "stream",
     "text": [
      "Current loss: 0.30506068399685443\n---------- Epoch 7 ----------\n"
     ]
    },
    {
     "name": "stdout",
     "output_type": "stream",
     "text": [
      "Current loss: 0.2863663168982317\n---------- Epoch 8 ----------\n"
     ]
    },
    {
     "name": "stdout",
     "output_type": "stream",
     "text": [
      "Current loss: 0.273292641164982\n---------- Epoch 9 ----------\n"
     ]
    },
    {
     "name": "stdout",
     "output_type": "stream",
     "text": [
      "Current loss: 0.26825607607522506\n---------- Epoch 10 ----------\n"
     ]
    },
    {
     "name": "stdout",
     "output_type": "stream",
     "text": [
      "Current loss: 0.2637414122520506\n---------- Epoch 11 ----------\n"
     ]
    },
    {
     "name": "stdout",
     "output_type": "stream",
     "text": [
      "Current loss: 0.263429862100075\n---------- Epoch 12 ----------\n"
     ]
    },
    {
     "name": "stdout",
     "output_type": "stream",
     "text": [
      "Current loss: 0.258202028467986\n---------- Epoch 13 ----------\n"
     ]
    },
    {
     "name": "stdout",
     "output_type": "stream",
     "text": [
      "Current loss: 0.25199269406716224\n---------- Epoch 14 ----------\n"
     ]
    },
    {
     "name": "stdout",
     "output_type": "stream",
     "text": [
      "Current loss: 0.25474767549235655\n---------- Epoch 0 ----------\n"
     ]
    },
    {
     "name": "stdout",
     "output_type": "stream",
     "text": [
      "Current loss: 0.8545235320235317\n---------- Epoch 1 ----------\n"
     ]
    },
    {
     "name": "stdout",
     "output_type": "stream",
     "text": [
      "Current loss: 0.7463267465395127\n---------- Epoch 2 ----------\n"
     ]
    },
    {
     "name": "stdout",
     "output_type": "stream",
     "text": [
      "Current loss: 0.6275703906023051\n---------- Epoch 3 ----------\n"
     ]
    },
    {
     "name": "stdout",
     "output_type": "stream",
     "text": [
      "Current loss: 0.5534931793974339\n---------- Epoch 4 ----------\n"
     ]
    },
    {
     "name": "stdout",
     "output_type": "stream",
     "text": [
      "Current loss: 0.4125442642463923\n---------- Epoch 5 ----------\n"
     ]
    },
    {
     "name": "stdout",
     "output_type": "stream",
     "text": [
      "Current loss: 0.3502287783138848\n---------- Epoch 6 ----------\n"
     ]
    },
    {
     "name": "stdout",
     "output_type": "stream",
     "text": [
      "Current loss: 0.32209306650796027\n---------- Epoch 7 ----------\n"
     ]
    },
    {
     "name": "stdout",
     "output_type": "stream",
     "text": [
      "Current loss: 0.2763867279292813\n---------- Epoch 8 ----------\n"
     ]
    },
    {
     "name": "stdout",
     "output_type": "stream",
     "text": [
      "Current loss: 0.2651323853451517\n---------- Epoch 9 ----------\n"
     ]
    },
    {
     "name": "stdout",
     "output_type": "stream",
     "text": [
      "Current loss: 0.261007024890004\n---------- Epoch 10 ----------\n"
     ]
    },
    {
     "name": "stdout",
     "output_type": "stream",
     "text": [
      "Current loss: 0.259012223001585\n---------- Epoch 11 ----------\n"
     ]
    },
    {
     "name": "stdout",
     "output_type": "stream",
     "text": [
      "Current loss: 0.25066421167485026\n---------- Epoch 12 ----------\n"
     ]
    },
    {
     "name": "stdout",
     "output_type": "stream",
     "text": [
      "Current loss: 0.25047617866766825\n---------- Epoch 13 ----------\n"
     ]
    },
    {
     "name": "stdout",
     "output_type": "stream",
     "text": [
      "Current loss: 0.24839043344362505\n---------- Epoch 14 ----------\n"
     ]
    },
    {
     "name": "stdout",
     "output_type": "stream",
     "text": [
      "Current loss: 0.2461214730895585\n---------- Epoch 0 ----------\n"
     ]
    },
    {
     "name": "stdout",
     "output_type": "stream",
     "text": [
      "Current loss: 0.8522760572760573\n---------- Epoch 1 ----------\n"
     ]
    },
    {
     "name": "stdout",
     "output_type": "stream",
     "text": [
      "Current loss: 0.7354800164374633\n---------- Epoch 2 ----------\n"
     ]
    },
    {
     "name": "stdout",
     "output_type": "stream",
     "text": [
      "Current loss: 0.6496083998743564\n---------- Epoch 3 ----------\n"
     ]
    },
    {
     "name": "stdout",
     "output_type": "stream",
     "text": [
      "Current loss: 0.5644836192176617\n---------- Epoch 4 ----------\n"
     ]
    },
    {
     "name": "stdout",
     "output_type": "stream",
     "text": [
      "Current loss: 0.39626794600198906\n---------- Epoch 5 ----------\n"
     ]
    },
    {
     "name": "stdout",
     "output_type": "stream",
     "text": [
      "Current loss: 0.313645172794109\n---------- Epoch 6 ----------\n"
     ]
    },
    {
     "name": "stdout",
     "output_type": "stream",
     "text": [
      "Current loss: 0.28407799056735233\n---------- Epoch 7 ----------\n"
     ]
    },
    {
     "name": "stdout",
     "output_type": "stream",
     "text": [
      "Current loss: 0.27190810371661445\n---------- Epoch 8 ----------\n"
     ]
    },
    {
     "name": "stdout",
     "output_type": "stream",
     "text": [
      "Current loss: 0.26046003641748344\n---------- Epoch 9 ----------\n"
     ]
    },
    {
     "name": "stdout",
     "output_type": "stream",
     "text": [
      "Current loss: 0.26046539158241316\n---------- Epoch 10 ----------\n"
     ]
    },
    {
     "name": "stdout",
     "output_type": "stream",
     "text": [
      "Current loss: 0.2524877191366556\n---------- Epoch 11 ----------\n"
     ]
    },
    {
     "name": "stdout",
     "output_type": "stream",
     "text": [
      "Current loss: 0.24553388691686562\n---------- Epoch 12 ----------\n"
     ]
    },
    {
     "name": "stdout",
     "output_type": "stream",
     "text": [
      "Current loss: 0.24560419485951407\n---------- Epoch 13 ----------\n"
     ]
    },
    {
     "name": "stdout",
     "output_type": "stream",
     "text": [
      "Current loss: 0.2397443277762429\n---------- Epoch 14 ----------\n"
     ]
    },
    {
     "name": "stdout",
     "output_type": "stream",
     "text": [
      "Current loss: 0.2381326947284397\n"
     ]
    },
    {
     "name": "stdout",
     "output_type": "stream",
     "text": [
      "0.3084493379365176\n---------- Epoch 0 ----------\n"
     ]
    },
    {
     "name": "stdout",
     "output_type": "stream",
     "text": [
      "Current loss: 0.8616470468066206\n---------- Epoch 1 ----------\n"
     ]
    },
    {
     "name": "stdout",
     "output_type": "stream",
     "text": [
      "Current loss: 0.7604910633102121\n---------- Epoch 2 ----------\n"
     ]
    },
    {
     "name": "stdout",
     "output_type": "stream",
     "text": [
      "Current loss: 0.7038393226159189\n---------- Epoch 3 ----------\n"
     ]
    },
    {
     "name": "stdout",
     "output_type": "stream",
     "text": [
      "Current loss: 0.5383483124440571\n---------- Epoch 4 ----------\n"
     ]
    },
    {
     "name": "stdout",
     "output_type": "stream",
     "text": [
      "Current loss: 0.4190769927472061\n---------- Epoch 5 ----------\n"
     ]
    },
    {
     "name": "stdout",
     "output_type": "stream",
     "text": [
      "Current loss: 0.3626366305089712\n---------- Epoch 6 ----------\n"
     ]
    },
    {
     "name": "stdout",
     "output_type": "stream",
     "text": [
      "Current loss: 0.35325566868120056\n---------- Epoch 7 ----------\n"
     ]
    },
    {
     "name": "stdout",
     "output_type": "stream",
     "text": [
      "Current loss: 0.3238210075976033\n---------- Epoch 8 ----------\n"
     ]
    },
    {
     "name": "stdout",
     "output_type": "stream",
     "text": [
      "Current loss: 0.30156891571785216\n---------- Epoch 9 ----------\n"
     ]
    },
    {
     "name": "stdout",
     "output_type": "stream",
     "text": [
      "Current loss: 0.3006056059779465\n---------- Epoch 10 ----------\n"
     ]
    },
    {
     "name": "stdout",
     "output_type": "stream",
     "text": [
      "Current loss: 0.2839339620190684\n---------- Epoch 11 ----------\n"
     ]
    },
    {
     "name": "stdout",
     "output_type": "stream",
     "text": [
      "Current loss: 0.27935191286255134\n---------- Epoch 12 ----------\n"
     ]
    },
    {
     "name": "stdout",
     "output_type": "stream",
     "text": [
      "Current loss: 0.2783615497977203\n---------- Epoch 13 ----------\n"
     ]
    },
    {
     "name": "stdout",
     "output_type": "stream",
     "text": [
      "Current loss: 0.2695664560026265\n---------- Epoch 14 ----------\n"
     ]
    },
    {
     "name": "stdout",
     "output_type": "stream",
     "text": [
      "Current loss: 0.27017128261809126\n---------- Epoch 0 ----------\n"
     ]
    },
    {
     "name": "stdout",
     "output_type": "stream",
     "text": [
      "Current loss: 0.8550960387130601\n---------- Epoch 1 ----------\n"
     ]
    },
    {
     "name": "stdout",
     "output_type": "stream",
     "text": [
      "Current loss: 0.7540194970514122\n---------- Epoch 2 ----------\n"
     ]
    },
    {
     "name": "stdout",
     "output_type": "stream",
     "text": [
      "Current loss: 0.6557122192228573\n---------- Epoch 3 ----------\n"
     ]
    },
    {
     "name": "stdout",
     "output_type": "stream",
     "text": [
      "Current loss: 0.5545589457823499\n---------- Epoch 4 ----------\n"
     ]
    },
    {
     "name": "stdout",
     "output_type": "stream",
     "text": [
      "Current loss: 0.41996803432973706\n---------- Epoch 5 ----------\n"
     ]
    },
    {
     "name": "stdout",
     "output_type": "stream",
     "text": [
      "Current loss: 0.30559142984674936\n---------- Epoch 6 ----------\n"
     ]
    },
    {
     "name": "stdout",
     "output_type": "stream",
     "text": [
      "Current loss: 0.2699749423153677\n---------- Epoch 7 ----------\n"
     ]
    },
    {
     "name": "stdout",
     "output_type": "stream",
     "text": [
      "Current loss: 0.2692977884999163\n---------- Epoch 8 ----------\n"
     ]
    },
    {
     "name": "stdout",
     "output_type": "stream",
     "text": [
      "Current loss: 0.25559830240681325\n---------- Epoch 9 ----------\n"
     ]
    },
    {
     "name": "stdout",
     "output_type": "stream",
     "text": [
      "Current loss: 0.25177041044062365\n---------- Epoch 10 ----------\n"
     ]
    },
    {
     "name": "stdout",
     "output_type": "stream",
     "text": [
      "Current loss: 0.24888141999844152\n---------- Epoch 11 ----------\n"
     ]
    },
    {
     "name": "stdout",
     "output_type": "stream",
     "text": [
      "Current loss: 0.23849699945444638\n---------- Epoch 12 ----------\n"
     ]
    },
    {
     "name": "stdout",
     "output_type": "stream",
     "text": [
      "Current loss: 0.24063238770685588\n---------- Epoch 13 ----------\n"
     ]
    },
    {
     "name": "stdout",
     "output_type": "stream",
     "text": [
      "Current loss: 0.23823368121240474\n---------- Epoch 14 ----------\n"
     ]
    },
    {
     "name": "stdout",
     "output_type": "stream",
     "text": [
      "Current loss: 0.23559360261487922\n---------- Epoch 0 ----------\n"
     ]
    },
    {
     "name": "stdout",
     "output_type": "stream",
     "text": [
      "Current loss: 0.848769079620144\n---------- Epoch 1 ----------\n"
     ]
    },
    {
     "name": "stdout",
     "output_type": "stream",
     "text": [
      "Current loss: 0.7578347007602325\n---------- Epoch 2 ----------\n"
     ]
    },
    {
     "name": "stdout",
     "output_type": "stream",
     "text": [
      "Current loss: 0.670810460225354\n---------- Epoch 3 ----------\n"
     ]
    },
    {
     "name": "stdout",
     "output_type": "stream",
     "text": [
      "Current loss: 0.5048027091112198\n---------- Epoch 4 ----------\n"
     ]
    },
    {
     "name": "stdout",
     "output_type": "stream",
     "text": [
      "Current loss: 0.3563310330331607\n---------- Epoch 5 ----------\n"
     ]
    },
    {
     "name": "stdout",
     "output_type": "stream",
     "text": [
      "Current loss: 0.3026559905815227\n---------- Epoch 6 ----------\n"
     ]
    },
    {
     "name": "stdout",
     "output_type": "stream",
     "text": [
      "Current loss: 0.28549220873688996\n---------- Epoch 7 ----------\n"
     ]
    },
    {
     "name": "stdout",
     "output_type": "stream",
     "text": [
      "Current loss: 0.27441026467622215\n---------- Epoch 8 ----------\n"
     ]
    },
    {
     "name": "stdout",
     "output_type": "stream",
     "text": [
      "Current loss: 0.2630186007845584\n---------- Epoch 9 ----------\n"
     ]
    },
    {
     "name": "stdout",
     "output_type": "stream",
     "text": [
      "Current loss: 0.2506760969526928\n---------- Epoch 10 ----------\n"
     ]
    },
    {
     "name": "stdout",
     "output_type": "stream",
     "text": [
      "Current loss: 0.24993256152830634\n---------- Epoch 11 ----------\n"
     ]
    },
    {
     "name": "stdout",
     "output_type": "stream",
     "text": [
      "Current loss: 0.24157623109750773\n---------- Epoch 12 ----------\n"
     ]
    },
    {
     "name": "stdout",
     "output_type": "stream",
     "text": [
      "Current loss: 0.23502492779088544\n---------- Epoch 13 ----------\n"
     ]
    },
    {
     "name": "stdout",
     "output_type": "stream",
     "text": [
      "Current loss: 0.23405397203269554\n---------- Epoch 14 ----------\n"
     ]
    },
    {
     "name": "stdout",
     "output_type": "stream",
     "text": [
      "Current loss: 0.2313358922401477\n0.31350377226445625\nOptimal regularization coefficient: 0.0001\n---------- Epoch 0 ----------\n"
     ]
    },
    {
     "name": "stdout",
     "output_type": "stream",
     "text": [
      "Current loss: 0.8263669608484949\n---------- Epoch 1 ----------\n"
     ]
    },
    {
     "name": "stdout",
     "output_type": "stream",
     "text": [
      "Current loss: 0.5889283144254732\n---------- Epoch 2 ----------\n"
     ]
    },
    {
     "name": "stdout",
     "output_type": "stream",
     "text": [
      "Current loss: 0.44885638351547413\n---------- Epoch 3 ----------\n"
     ]
    },
    {
     "name": "stdout",
     "output_type": "stream",
     "text": [
      "Current loss: 0.4239680261342198\n---------- Epoch 4 ----------\n"
     ]
    },
    {
     "name": "stdout",
     "output_type": "stream",
     "text": [
      "Current loss: 0.2901607980088098\n---------- Epoch 5 ----------\n"
     ]
    },
    {
     "name": "stdout",
     "output_type": "stream",
     "text": [
      "Current loss: 0.25011556073345864\n---------- Epoch 6 ----------\n"
     ]
    },
    {
     "name": "stdout",
     "output_type": "stream",
     "text": [
      "Current loss: 0.24210160105046533\n---------- Epoch 7 ----------\n"
     ]
    },
    {
     "name": "stdout",
     "output_type": "stream",
     "text": [
      "Current loss: 0.22142131069687912\n---------- Epoch 8 ----------\n"
     ]
    },
    {
     "name": "stdout",
     "output_type": "stream",
     "text": [
      "Current loss: 0.21537760298413744\n---------- Epoch 9 ----------\n"
     ]
    },
    {
     "name": "stdout",
     "output_type": "stream",
     "text": [
      "Current loss: 0.21556817156959218\n---------- Epoch 10 ----------\n"
     ]
    },
    {
     "name": "stdout",
     "output_type": "stream",
     "text": [
      "Current loss: 0.20853379574970513\n---------- Epoch 11 ----------\n"
     ]
    },
    {
     "name": "stdout",
     "output_type": "stream",
     "text": [
      "Current loss: 0.2040093626386243\n---------- Epoch 12 ----------\n"
     ]
    },
    {
     "name": "stdout",
     "output_type": "stream",
     "text": [
      "Current loss: 0.19809298971230815\n---------- Epoch 13 ----------\n"
     ]
    },
    {
     "name": "stdout",
     "output_type": "stream",
     "text": [
      "Current loss: 0.19770932586983744\n---------- Epoch 14 ----------\n"
     ]
    },
    {
     "name": "stdout",
     "output_type": "stream",
     "text": [
      "Current loss: 0.1942162044079659\n"
     ]
    },
    {
     "name": "stdout",
     "output_type": "stream",
     "text": [
      "Mean loss: 0.2548496021321233\n"
     ]
    },
    {
     "data": {
      "image/png": "[encoded data removed]",
      "text/plain": [
       "<matplotlib.figure.Figure at 0x25bbf14edd8>"
      ]
     },
     "metadata": {},
     "output_type": "display_data"
    },
    {
     "name": "stdout",
     "output_type": "stream",
     "text": [
      "Test score with chain CRF: 0.786583\nTest score with our model: 0.7451503978678766\n[14 12 12  0 13 25  8 13  6]\n[14  0 12  0 13  3  8 13  6]\n[14 12 12  0 13  3  8 13  6]\n[14 12 12  0 13  5  8 13  6]\n[14 12 12  0 13 14 10 13  6]\n[array([14, 12, 12,  0, 13, 25,  8, 13,  6], dtype=int64), array([14, 12, 12,  0, 13,  3,  8, 13,  6], dtype=int64), array([14, 12, 12,  0, 13,  3,  8, 13,  6], dtype=int64), array([14, 12, 12,  0, 13, 25,  8, 13,  6], dtype=int64), array([14, 20, 13,  0, 13, 20, 10, 13,  6], dtype=int64)]\n"
     ]
    }
   ],
   "source": [
    "test_loss, custom_ssvm = run_struct()\n",
    "\n",
    "abc = \"abcdefghijklmnopqrstuvwxyz\"\n",
    "\n",
    "letters = load_letters()\n",
    "X, y, folds = letters['data'], letters['labels'], letters['folds']\n",
    "X, y = np.array(X), np.array(y)\n",
    "X_train, X_test = X[folds == 1], X[folds != 1]\n",
    "y_train, y_test = y[folds == 1], y[folds != 1]\n",
    "\n",
    "# Train linear chain CRF\n",
    "model = ChainCRF()\n",
    "ssvm = FrankWolfeSSVM(model=model, C=.1, max_iter=11)\n",
    "ssvm.fit(X_train, y_train)\n",
    "\n",
    "print(\"Test score with chain CRF: %f\" % ssvm.score(X_test, y_test))\n",
    "print(\"Test score with our model: {}\".format(1 - test_loss))\n",
    "\n",
    "for i in range(5):\n",
    "    print(custom_ssvm.get_prediction(X_test[i]))\n",
    "print(ssvm.predict(X_test[:5]))"
   ]
  },
  {
   "cell_type": "code",
   "execution_count": 2,
   "metadata": {},
   "outputs": [],
   "source": [
    "def run_struct_without_A():\n",
    "    dh = data_handler.DataHandler()\n",
    "\n",
    "    X, y = dh.get_train_set()\n",
    "    X, y_one_hot = dh.get_train_set_one_hot()\n",
    "    dim, class_num = dh.dim, dh.class_num\n",
    "\n",
    "    ssvm = struct_svm.StructSVM(X, y, y_one_hot, class_num, dim)\n",
    "    ssvm.set_A_not_trainable()\n",
    "    \n",
    "    ssvm.train(reg_step=1e-4)\n",
    "\n",
    "    x_test, y_test = dh.get_test_set()\n",
    "\n",
    "    mean_loss = 0\n",
    "    for idx, sample in enumerate(x_test):\n",
    "        y_pred = ssvm.get_prediction(sample)\n",
    "        mean_loss += ssvm.hamming_loss_(y_test[idx], y_pred)\n",
    "    \n",
    "    mean_loss = mean_loss/x_test.shape[0]\n",
    "    print(\"Mean loss: {}\".format(mean_loss))\n",
    "    \n",
    "    return mean_loss, ssvm"
   ]
  },
  {
   "cell_type": "code",
   "execution_count": 3,
   "metadata": {},
   "outputs": [
    {
     "name": "stdout",
     "output_type": "stream",
     "text": [
      "---------- Epoch 0 ----------\n"
     ]
    },
    {
     "name": "stdout",
     "output_type": "stream",
     "text": [
      "Current loss: 0.8241454095147279\n---------- Epoch 1 ----------\n"
     ]
    },
    {
     "name": "stdout",
     "output_type": "stream",
     "text": [
      "Current loss: 0.6946210197630657\n---------- Epoch 2 ----------\n"
     ]
    },
    {
     "name": "stdout",
     "output_type": "stream",
     "text": [
      "Current loss: 0.5335173349377892\n---------- Epoch 3 ----------\n"
     ]
    },
    {
     "name": "stdout",
     "output_type": "stream",
     "text": [
      "Current loss: 0.4592950412907797\n---------- Epoch 4 ----------\n"
     ]
    },
    {
     "name": "stdout",
     "output_type": "stream",
     "text": [
      "Current loss: 0.3697100366489575\n---------- Epoch 5 ----------\n"
     ]
    },
    {
     "name": "stdout",
     "output_type": "stream",
     "text": [
      "Current loss: 0.3445949883449883\n---------- Epoch 6 ----------\n"
     ]
    },
    {
     "name": "stdout",
     "output_type": "stream",
     "text": [
      "Current loss: 0.329845292806941\n---------- Epoch 7 ----------\n"
     ]
    },
    {
     "name": "stdout",
     "output_type": "stream",
     "text": [
      "Current loss: 0.3148719060295769\n---------- Epoch 8 ----------\n"
     ]
    },
    {
     "name": "stdout",
     "output_type": "stream",
     "text": [
      "Current loss: 0.3040722062028883\n---------- Epoch 9 ----------\n"
     ]
    },
    {
     "name": "stdout",
     "output_type": "stream",
     "text": [
      "Current loss: 0.3013053313479456\n---------- Epoch 10 ----------\n"
     ]
    },
    {
     "name": "stdout",
     "output_type": "stream",
     "text": [
      "Current loss: 0.2953139781619896\n---------- Epoch 11 ----------\n"
     ]
    },
    {
     "name": "stdout",
     "output_type": "stream",
     "text": [
      "Current loss: 0.29411458964015846\n---------- Epoch 12 ----------\n"
     ]
    },
    {
     "name": "stdout",
     "output_type": "stream",
     "text": [
      "Current loss: 0.29328190354468797\n---------- Epoch 13 ----------\n"
     ]
    },
    {
     "name": "stdout",
     "output_type": "stream",
     "text": [
      "Current loss: 0.2899868479058824\n---------- Epoch 14 ----------\n"
     ]
    },
    {
     "name": "stdout",
     "output_type": "stream",
     "text": [
      "Current loss: 0.2901379633623955\n"
     ]
    },
    {
     "name": "stdout",
     "output_type": "stream",
     "text": [
      "Mean loss: 0.3240874641854718\n"
     ]
    }
   ],
   "source": [
    "loss, struct_classifier = run_struct_without_A()"
   ]
  },
  {
   "cell_type": "code",
   "execution_count": 7,
   "metadata": {},
   "outputs": [
    {
     "name": "stdout",
     "output_type": "stream",
     "text": [
      "[14 12 12  0 13 25  8 13  6]\n[14, 12, 12, 0, 13, 3, 8, 13, 6]\n[14  0  0  0 13  3  8 13  1]\n[14, 13, 12, 0, 13, 3, 16, 13, 24]\n[14 12 12  0 13  3  8 13  6]\n[14, 12, 13, 0, 13, 3, 8, 13, 6]\n[14 12 12  0 13  0  8 13  6]\n[14, 12, 12, 0, 13, 0, 8, 13, 6]\n[14 12 12  0 13 12 10 13 24]\n[14, 13, 13, 0, 13, 13, 10, 13, 6]\n"
     ]
    }
   ],
   "source": [
    "letters = load_letters()\n",
    "X, y, folds = letters['data'], letters['labels'], letters['folds']\n",
    "X, y = np.array(X), np.array(y)\n",
    "X_train, X_test = X[folds == 1], X[folds != 1]\n",
    "y_train, y_test = y[folds == 1], y[folds != 1]\n",
    "\n",
    "for i in range(5):\n",
    "    print(struct_classifier.get_prediction(X_test[i]))\n",
    "    print([simple_classifier.get_prediction(X_test[i][j]) for j in range(X_test[i].shape[0])])"
   ]
  },
  {
   "cell_type": "markdown",
   "metadata": {},
   "source": [
    "### Check gradient on random generated dataset"
   ]
  },
  {
   "cell_type": "code",
   "execution_count": 2,
   "metadata": {},
   "outputs": [
    {
     "name": "stdout",
     "output_type": "stream",
     "text": [
      "[[ -8.08654958e-01  -8.08654858e-01]\n [ -7.66008757e-01  -7.66008726e-01]\n [  2.32357775e-01   2.32357704e-01]\n [  9.15300520e-02   9.15301471e-02]\n [ -3.86765917e-02  -3.86766645e-02]\n [ -1.72913357e-01  -1.72913420e-01]\n [  9.68654637e-01   9.68654651e-01]\n [ -2.02056034e-02  -2.02056261e-02]\n [  1.22813226e-03   1.22808307e-03]\n [  9.67134106e-02   9.67134790e-02]\n [ -1.22263741e-01  -1.22263723e-01]\n [ -2.77873156e-02  -2.77873431e-02]\n [ -3.48243522e-01  -3.48243464e-01]\n [  9.47154928e-01   9.47154766e-01]\n [ -3.28849774e-02  -3.28849934e-02]\n [  1.26000010e+00   1.40000001e+00]\n [ -1.00000009e-01  -1.00824385e-09]\n [  3.00000093e-01   1.07499102e-08]\n [ -1.20000020e-01  -2.19213930e-09]\n [ -2.20000051e-01  -5.97427748e-09]\n [ -1.40000012e-01  -1.56334496e-09]\n [ -1.20000013e-01  -8.80000001e-01]\n [ -9.99999576e-02   5.02465352e-09]\n [ -1.79999955e-01   5.29927032e-09]\n [ -1.40000130e-01  -1.53288262e-08]\n [ -2.00000860e-02  -1.01873917e-08]\n [ -7.99999755e-02   2.82239645e-09]\n [  6.00000089e-01   7.60000010e-01]\n [ -2.20000099e-01  -1.16168039e-08]\n [  2.20000054e-01   6.18291375e-09]\n [ -1.40000076e-01  -9.02724774e-09]\n [ -1.60000009e-01  -1.08417904e-09]\n [ -7.99999063e-02   1.09953805e-08]\n [ -3.99999331e-02  -8.59999992e-01]\n [ -1.19999904e-01   1.11164681e-08]\n [  4.00000149e-02   1.69273152e-09]\n [ -2.00000108e-01  -1.26717389e-08]\n [  1.20000059e-01   6.78209094e-09]\n [ -1.59999891e-01   1.29160352e-08]\n [ -2.00000011e-01  -4.20000001e-01]\n [  1.40000007e+00   1.40000001e+00]\n [ -8.80000123e-01  -8.80000015e-01]\n [  7.60000036e-01   7.60000004e-01]\n [ -8.60000070e-01  -8.60000008e-01]\n [ -4.20000057e-01  -4.20000007e-01]]\n0.209766914296\n"
     ]
    }
   ],
   "source": [
    "ssvm = struct_svm.StructSVM()\n",
    "diff, n, a = ssvm.check_grad(3, 5)\n",
    "print(np.c_[n, a])\n",
    "print(diff)"
   ]
  }
 ],
 "metadata": {
  "anaconda-cloud": {},
  "kernelspec": {
   "display_name": "Python [default]",
   "language": "python",
   "name": "python3"
  }
 },
 "nbformat": 4,
 "nbformat_minor": 0
}