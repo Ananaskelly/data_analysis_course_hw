{
 "cells": [
  {
   "cell_type": "code",
   "execution_count": 2,
   "metadata": {
    "collapsed": true
   },
   "outputs": [],
   "source": [
    "import numpy as np\n",
    "\n",
    "from sklearn import datasets\n",
    "from sklearn.cluster import AgglomerativeClustering\n",
    "\n",
    "# load dataset\n",
    "digits = datasets.load_digits(n_class=10)\n",
    "X = digits.data\n",
    "y = digits.target\n",
    "n_samples, n_features = X.shape\n",
    "\n",
    "np.random.seed(0)"
   ]
  },
  {
   "cell_type": "code",
   "execution_count": 3,
   "metadata": {},
   "outputs": [],
   "source": [
    "labels = {}\n",
    "\n",
    "\"\"\"\n",
    "ward minimizes the variance (расстояния до центров кластеров) of the clusters being merged\n",
    "average uses the average of the distances of each observation of the two sets\n",
    "complete or maximum linkage uses the maximum distances between all observations of the two sets\n",
    "\"\"\"\n",
    "for linkage in ('ward', 'average', 'complete'):\n",
    "    clustering = AgglomerativeClustering(linkage=linkage, n_clusters=10)\n",
    "    clustering.fit(X)\n",
    "\n",
    "    labels.update({linkage: clustering.labels_})"
   ]
  },
  {
   "cell_type": "code",
   "execution_count": 7,
   "metadata": {},
   "outputs": [
    {
     "name": "stdout",
     "output_type": "stream",
     "text": [
      "adjusted_rand_score, ward: 0.7940031835568753\nhomogeneity_score, ward: 0.8575128719504723\nadjusted_rand_score, complete: 0.435636422282815\nhomogeneity_score, complete: 0.5978063983297739\nadjusted_rand_score, average: 0.5142255948681157\nhomogeneity_score, average: 0.6553927388340716\n"
     ]
    }
   ],
   "source": [
    "\"\"\"\n",
    "\n",
    "~evaluation~\n",
    "\n",
    "homogeneity: each cluster contains only members of a single class\n",
    "adjusted_rand_index is a function that measures the similarity of the two assignments, ignoring permutations and with chance normalization\n",
    "\n",
    "\"\"\"\n",
    "from sklearn import metrics\n",
    "for key in labels.keys():\n",
    "    print('adjusted_rand_score, {}: {}'.format(key, metrics.adjusted_rand_score(y, labels[key])))\n",
    "    print('homogeneity_score, {}: {}'.format(key, metrics.homogeneity_score(y, labels[key])))"
   ]
  }
 ],
 "metadata": {
  "kernelspec": {
   "display_name": "Python 2",
   "language": "python",
   "name": "python2"
  },
  "language_info": {
   "codemirror_mode": {
    "name": "ipython",
    "version": 2.0
   },
   "file_extension": ".py",
   "mimetype": "text/x-python",
   "name": "python",
   "nbconvert_exporter": "python",
   "pygments_lexer": "ipython2",
   "version": "2.7.6"
  }
 },
 "nbformat": 4,
 "nbformat_minor": 0
}