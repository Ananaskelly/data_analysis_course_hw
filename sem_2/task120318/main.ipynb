{
 "cells": [
  {
   "cell_type": "code",
   "execution_count": 8,
   "metadata": {
    "collapsed": false
   },
   "outputs": [
    {
     "name": "stdout",
     "output_type": "stream",
     "text": [
      "True\n"
     ]
    }
   ],
   "source": [
    "import numpy as np\n",
    "from sem_2.task120318.task_1 import calc_dist\n",
    "\n",
    "a = np.random.rand(3, 3, 3)\n",
    "b = np.random.rand(3, 3, 3)\n",
    "\n",
    "sc_dst = np.linalg.norm(a - b)\n",
    "est_dst = calc_dist.euclidean_dst(a, b)\n",
    "\n",
    "print(np.allclose(sc_dst, est_dst))"
   ]
  }
 ],
 "metadata": {
  "kernelspec": {
   "display_name": "Python 2",
   "language": "python",
   "name": "python2"
  },
  "language_info": {
   "codemirror_mode": {
    "name": "ipython",
    "version": 2.0
   },
   "file_extension": ".py",
   "mimetype": "text/x-python",
   "name": "python",
   "nbconvert_exporter": "python",
   "pygments_lexer": "ipython2",
   "version": "2.7.6"
  }
 },
 "nbformat": 4,
 "nbformat_minor": 0
}