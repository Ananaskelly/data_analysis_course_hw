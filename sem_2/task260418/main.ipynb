{
 "cells": [
  {
   "cell_type": "code",
   "execution_count": 1,
   "metadata": {
    "collapsed": true
   },
   "outputs": [],
   "source": [
    "from sklearn.datasets import load_digits\n",
    "import matplotlib.pyplot as plt\n",
    "\n",
    "\n",
    "digits = load_digits()\n",
    "x = digits.data\n",
    "y = digits.target\n",
    "\n",
    "set_size, feature_size = x.shape\n",
    "\n",
    "train_size = int(set_size*0.9)\n",
    "\n",
    "x_train = x[:train_size]\n",
    "x_test = x[train_size:]\n",
    "y_train = y[:train_size]\n",
    "y_test = y[train_size:]"
   ]
  },
  {
   "cell_type": "code",
   "execution_count": 6,
   "metadata": {},
   "outputs": [
    {
     "name": "stdout",
     "output_type": "stream",
     "text": [
      "Accuracy: 0.9122112897479443 --- Logistic Regression\n"
     ]
    },
    {
     "name": "stdout",
     "output_type": "stream",
     "text": [
      "Accuracy: 0.9592142760073277 --- KNN\nAccuracy: 0.8992017494455041 --- Random Forest\n"
     ]
    },
    {
     "name": "stdout",
     "output_type": "stream",
     "text": [
      "Accuracy: 0.9567659166894911 --- Ensemble\n"
     ]
    }
   ],
   "source": [
    "from sklearn.ensemble import VotingClassifier, RandomForestClassifier\n",
    "from sklearn.linear_model import LogisticRegression\n",
    "from sklearn.neighbors import KNeighborsClassifier\n",
    "from sklearn.model_selection import cross_val_score\n",
    "\n",
    "clf1 = LogisticRegression(solver='lbfgs')\n",
    "clf2 = KNeighborsClassifier(n_neighbors=7)\n",
    "clf3 = RandomForestClassifier()\n",
    "eclf = VotingClassifier(estimators=[('lr', clf1), ('knn', clf2), ('rf', clf3)], voting='hard', weights=[1, 2, 1])\n",
    "\n",
    "for clf, label in zip([clf1, clf2, clf3, eclf], ['Logistic Regression', 'KNN', 'Random Forest', 'Ensemble']):\n",
    "    scores = cross_val_score(clf, x_train, y_train, cv=5, scoring='accuracy')\n",
    "    print('Accuracy: {} --- {}'.format(scores.mean(), label))"
   ]
  },
  {
   "cell_type": "code",
   "execution_count": 15,
   "metadata": {
    "collapsed": false
   },
   "outputs": [
    {
     "name": "stdout",
     "output_type": "stream",
     "text": [
      "Est: 5 --- criterion: gini --- accuracy: 0.8722222222222222\nEst: 5 --- criterion: entropy --- accuracy: 0.85\n\n\nEst: 6 --- criterion: gini --- accuracy: 0.85\nEst: 6 --- criterion: entropy --- accuracy: 0.8888888888888888\n\n\nEst: 7 --- criterion: gini --- accuracy: 0.8722222222222222\nEst: 7 --- criterion: entropy --- accuracy: 0.9166666666666666\n\n\n"
     ]
    },
    {
     "name": "stdout",
     "output_type": "stream",
     "text": [
      "Est: 8 --- criterion: gini --- accuracy: 0.9\nEst: 8 --- criterion: entropy --- accuracy: 0.9166666666666666\n\n\nEst: 9 --- criterion: gini --- accuracy: 0.8777777777777778\n"
     ]
    },
    {
     "name": "stdout",
     "output_type": "stream",
     "text": [
      "Est: 9 --- criterion: entropy --- accuracy: 0.8888888888888888\n\n\nEst: 10 --- criterion: gini --- accuracy: 0.9111111111111111\nEst: 10 --- criterion: entropy --- accuracy: 0.9\n\n\nEst: 11 --- criterion: gini --- accuracy: 0.8833333333333333\n"
     ]
    },
    {
     "name": "stdout",
     "output_type": "stream",
     "text": [
      "Est: 11 --- criterion: entropy --- accuracy: 0.9277777777777778\n\n\nEst: 12 --- criterion: gini --- accuracy: 0.9333333333333333\nEst: 12 --- criterion: entropy --- accuracy: 0.9111111111111111\n\n\n"
     ]
    },
    {
     "name": "stdout",
     "output_type": "stream",
     "text": [
      "Est: 13 --- criterion: gini --- accuracy: 0.8944444444444445\nEst: 13 --- criterion: entropy --- accuracy: 0.9222222222222223\n\n\nEst: 14 --- criterion: gini --- accuracy: 0.9111111111111111\n"
     ]
    },
    {
     "name": "stdout",
     "output_type": "stream",
     "text": [
      "Est: 14 --- criterion: entropy --- accuracy: 0.9388888888888889\n\n\nEst: 15 --- criterion: gini --- accuracy: 0.9277777777777778\nEst: 15 --- criterion: entropy --- accuracy: 0.9055555555555556\n\n\n"
     ]
    }
   ],
   "source": [
    "from sklearn import metrics\n",
    "\n",
    "for i in range(5, 16):\n",
    "    for cr in ['gini', 'entropy']:\n",
    "        random_forest = RandomForestClassifier(n_estimators=i, criterion=cr)\n",
    "        random_forest.fit(x_train, y_train)\n",
    "        labels = random_forest.predict(x_test)\n",
    "        print('Est: {} --- criterion: {} --- accuracy: {}'.format(i, cr, metrics.accuracy_score(y_test, labels)))     \n",
    "    print('\\n')"
   ]
  }
 ],
 "metadata": {
  "kernelspec": {
   "display_name": "Python 2",
   "language": "python",
   "name": "python2"
  },
  "language_info": {
   "codemirror_mode": {
    "name": "ipython",
    "version": 2.0
   },
   "file_extension": ".py",
   "mimetype": "text/x-python",
   "name": "python",
   "nbconvert_exporter": "python",
   "pygments_lexer": "ipython2",
   "version": "2.7.6"
  }
 },
 "nbformat": 4,
 "nbformat_minor": 0
}