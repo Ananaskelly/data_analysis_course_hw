{
 "cells": [
  {
   "cell_type": "code",
   "execution_count": 1,
   "metadata": {
    "collapsed": true
   },
   "outputs": [
    {
     "name": "stdout",
     "output_type": "stream",
     "text": [
      "train size: 1617\n"
     ]
    },
    {
     "name": "stdout",
     "output_type": "stream",
     "text": [
      "mse: 1.711111111111111\n"
     ]
    }
   ],
   "source": [
    "import matplotlib.pyplot as plt\n",
    "\n",
    "from sklearn.metrics import mean_squared_error\n",
    "from sklearn import ensemble\n",
    "from sklearn import datasets\n",
    "\n",
    "\n",
    "digits = datasets.load_digits(n_class=10)\n",
    "X = digits.data\n",
    "y = digits.target\n",
    "n_samples, n_features = X.shape\n",
    "\n",
    "train_size = int(n_samples*0.9)\n",
    "print('train size: {}'.format(train_size))\n",
    "\n",
    "x_train = X[:train_size]\n",
    "x_test = X[train_size:]\n",
    "y_train = y[:train_size]\n",
    "y_test = y[train_size:]\n",
    "\n",
    "params = {'n_estimators': 1000, 'max_leaf_nodes': 4, 'min_samples_split': 5}\n",
    "\n",
    "clf = ensemble.GradientBoostingClassifier(**params)\n",
    "clf.fit(x_train, y_train)\n",
    "print('mse: {}'.format(mean_squared_error(y_test, clf.predict(x_test))))"
   ]
  },
  {
   "cell_type": "code",
   "execution_count": 2,
   "metadata": {},
   "outputs": [
    {
     "name": "stdout",
     "output_type": "stream",
     "text": [
      "mse: 3.3222222222222224\n"
     ]
    }
   ],
   "source": [
    "params = {'n_estimators': 1000, 'max_leaf_nodes': 4, 'min_samples_split': 5, 'learning_rate': 0.001}\n",
    "\n",
    "clf = ensemble.GradientBoostingClassifier(**params)\n",
    "clf.fit(x_train, y_train)\n",
    "print('mse: {}'.format(mean_squared_error(y_test, clf.predict(x_test))))"
   ]
  },
  {
   "cell_type": "code",
   "execution_count": 3,
   "metadata": {},
   "outputs": [
    {
     "name": "stdout",
     "output_type": "stream",
     "text": [
      "mse: 1.7722222222222221\n"
     ]
    }
   ],
   "source": [
    "params = {'n_estimators': 1000, 'max_leaf_nodes': 4, 'min_samples_split': 5, 'learning_rate': 0.01}\n",
    "\n",
    "clf = ensemble.GradientBoostingClassifier(**params)\n",
    "clf.fit(x_train, y_train)\n",
    "print('mse: {}'.format(mean_squared_error(y_test, clf.predict(x_test))))"
   ]
  },
  {
   "cell_type": "code",
   "execution_count": 4,
   "metadata": {},
   "outputs": [
    {
     "name": "stdout",
     "output_type": "stream",
     "text": [
      "mse: 1.8277777777777777\n"
     ]
    }
   ],
   "source": [
    "params = {'n_estimators': 1000, 'max_leaf_nodes': 4, 'min_samples_split': 5, 'learning_rate': 0.5}\n",
    "\n",
    "clf = ensemble.GradientBoostingClassifier(**params)\n",
    "clf.fit(x_train, y_train)\n",
    "print('mse: {}'.format(mean_squared_error(y_test, clf.predict(x_test))))"
   ]
  },
  {
   "cell_type": "code",
   "execution_count": 5,
   "metadata": {},
   "outputs": [
    {
     "name": "stdout",
     "output_type": "stream",
     "text": [
      "[5 2 8 0 1 7 6 3 2 1 7 4 6 3 1 3 9 1 7 6 8 4 3 1 4 0 5 3 6 9 6 1 7 5 4 4 7\n 2 2 5 7 9 5 4 4 9 0 8 9 8 0 1 2 3 4 5 6 7 8 9 0 1 2 3 4 5 6 7 8 9 0 1 2 3\n 4 5 6 7 8 9 0 9 5 5 6 5 0 9 8 9 8 4 1 7 7 3 5 1 0 0 2 2 7 8 2 0 1 2 6 3 3\n 7 3 3 4 6 6 6 4 9 1 5 0 9 5 2 8 2 0 0 1 7 6 3 2 1 7 4 6 3 1 3 9 1 7 6 8 4\n 3 1 4 0 5 3 6 9 6 1 7 5 4 4 7 2 8 2 2 5 7 9 5 4 8 8 4 9 0 8 9 8]\n[5 2 8 0 1 7 6 3 2 3 7 9 6 3 1 3 9 1 7 6 8 4 3 1 4 0 5 3 8 9 6 1 7 5 4 4 7\n 2 2 5 7 8 5 8 4 1 0 8 9 8 0 1 2 3 4 5 6 7 8 9 0 1 2 3 4 5 6 7 8 9 0 1 2 8\n 4 5 6 7 8 9 0 9 5 5 6 5 0 9 8 9 8 4 1 7 7 3 5 1 0 0 2 2 7 8 2 0 1 2 6 8 8\n 7 1 3 4 6 6 6 4 9 1 5 0 9 5 7 8 2 0 0 1 7 6 3 2 1 4 4 6 3 1 3 9 1 7 6 8 4\n 5 1 4 0 5 3 6 9 6 1 7 5 4 4 7 2 8 2 2 5 7 9 5 4 1 1 4 9 0 8 9 8]\n"
     ]
    }
   ],
   "source": [
    "print(y_test)\n",
    "print(clf.predict(x_test))"
   ]
  }
 ],
 "metadata": {
  "kernelspec": {
   "display_name": "Python 2",
   "language": "python",
   "name": "python2"
  },
  "language_info": {
   "codemirror_mode": {
    "name": "ipython",
    "version": 2.0
   },
   "file_extension": ".py",
   "mimetype": "text/x-python",
   "name": "python",
   "nbconvert_exporter": "python",
   "pygments_lexer": "ipython2",
   "version": "2.7.6"
  }
 },
 "nbformat": 4,
 "nbformat_minor": 0
}