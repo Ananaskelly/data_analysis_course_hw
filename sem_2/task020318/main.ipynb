{
 "cells": [
  {
   "cell_type": "code",
   "execution_count": 4,
   "metadata": {
    "collapsed": true
   },
   "outputs": [
    {
     "name": "stdout",
     "output_type": "stream",
     "text": [
      "43.0\n39.26\n-2.57427148837 0.0131186854251\nt-value (left) = -2.67995\nt-value (right) = 2.67995\np-value = 0.013\nAnswer: не можем отклонить гипотезу H0 на заданном уровне значимости alpha=0.001\n"
     ]
    }
   ],
   "source": [
    "from sem_2.task020318.task_1 import ttest\n",
    "\n",
    "ttest.calc(0.01)\n",
    "ttest.print_answer()"
   ]
  },
  {
   "cell_type": "code",
   "execution_count": 2,
   "metadata": {},
   "outputs": [
    {
     "name": "stdout",
     "output_type": "stream",
     "text": [
      "t_value: -3.297564223943137\nq_value: -2.6468634395039388\nОтвергаем H0\n"
     ]
    }
   ],
   "source": [
    "from sem_2.task020318.task_2 import t_test\n",
    "\n",
    "t_test.calc()"
   ]
  },
  {
   "cell_type": "code",
   "execution_count": 4,
   "metadata": {},
   "outputs": [
    {
     "name": "stdout",
     "output_type": "stream",
     "text": [
      "mean: 0.6073507233947008, std: 1.0575938069834294\n2.49678122248\n0.547181596772 4.90946015311\nНе можем отвергать H0\n"
     ]
    }
   ],
   "source": [
    "from sem_2.task020318.task_3 import h_check\n",
    "import numpy as np\n",
    "\n",
    "\n",
    "h_check.chi_sq_test(np.random.randn(100), 0.001, 7)"
   ]
  },
  {
   "cell_type": "code",
   "execution_count": 5,
   "metadata": {},
   "outputs": [
    {
     "name": "stdout",
     "output_type": "stream",
     "text": [
      "lambda estimated: 0.45543364408177706, table: 100.37422133042901\nне можем опровергнуть\n"
     ]
    }
   ],
   "source": [
    "h_check.ks_test_uniform(np.random.uniform(0, 1, 100), alpha=0.001)"
   ]
  }
 ],
 "metadata": {
  "kernelspec": {
   "display_name": "Python 2",
   "language": "python",
   "name": "python2"
  },
  "language_info": {
   "codemirror_mode": {
    "name": "ipython",
    "version": 2.0
   },
   "file_extension": ".py",
   "mimetype": "text/x-python",
   "name": "python",
   "nbconvert_exporter": "python",
   "pygments_lexer": "ipython2",
   "version": "2.7.6"
  }
 },
 "nbformat": 4,
 "nbformat_minor": 0
}