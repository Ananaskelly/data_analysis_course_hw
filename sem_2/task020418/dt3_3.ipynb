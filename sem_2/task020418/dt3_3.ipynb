{
 "cells": [
  {
   "cell_type": "code",
   "execution_count": 69,
   "metadata": {
    "collapsed": true
   },
   "outputs": [],
   "source": [
    "import numpy as np\n",
    "import pandas as pd\n",
    "import pydot\n",
    "from sklearn.model_selection import train_test_split\n",
    "from sklearn.tree import DecisionTreeClassifier\n",
    "from sklearn.metrics import accuracy_score\n",
    "from sklearn import preprocessing\n",
    "from sklearn import tree, datasets"
   ]
  },
  {
   "cell_type": "code",
   "execution_count": 72,
   "metadata": {},
   "outputs": [
    {
     "name": "stdout",
     "output_type": "stream",
     "text": [
      "Accuracy: 0.7988826815642458\n"
     ]
    }
   ],
   "source": [
    "path = 'sem_2/data/train.csv'\n",
    "\n",
    "\n",
    "def prepare_data(path_to_ds):\n",
    "    data = pd.read_csv(path_to_ds, sep=',', header=0, engine='python')\n",
    "    data = data.drop('PassengerId', axis=1)\n",
    "    data_dict = data.to_dict()\n",
    "\n",
    "    # labels\n",
    "    y_ = list(data_dict['Survived'].values())\n",
    "    y_ = np.array(y_)\n",
    "\n",
    "    data_clean = []\n",
    "    le = preprocessing.LabelEncoder()\n",
    "    for key in data_dict.keys():\n",
    "        if key == 'Survived':\n",
    "            continue\n",
    "        buffer = list(data_dict[key].values())\n",
    "        buffer = le.fit_transform(buffer)\n",
    "        data_clean.append(buffer)\n",
    "    \n",
    "    x_ = np.array(data_clean).T\n",
    "    return x_, y_\n",
    "\n",
    "x, y = prepare_data(path)\n",
    "x_train, x_test, y_train, y_test = train_test_split(x, y, test_size=0.2, random_state=100)\n",
    "clf_gini = DecisionTreeClassifier(criterion='gini', random_state=100, max_depth=3, min_samples_leaf=4)\n",
    "clf_gini.fit(x_train, y_train)\n",
    "\"\"\"\n",
    "tree.export_graphviz(clf_gini, out_file='sem_2/data/tree_gini.dot')\n",
    "(graph,) = pydot.graph_from_dot_file('sem_2/data/tree_gini.dot')\n",
    "graph.write_png('sem_2/data/titanic.png')\n",
    "\"\"\"\n",
    "y_pred = clf_gini.predict(x_test)\n",
    "print('Accuracy: {}'.format(accuracy_score(y_test, y_pred)))"
   ]
  }
 ],
 "metadata": {
  "kernelspec": {
   "display_name": "Python 2",
   "language": "python",
   "name": "python2"
  },
  "language_info": {
   "codemirror_mode": {
    "name": "ipython",
    "version": 2.0
   },
   "file_extension": ".py",
   "mimetype": "text/x-python",
   "name": "python",
   "nbconvert_exporter": "python",
   "pygments_lexer": "ipython2",
   "version": "2.7.6"
  }
 },
 "nbformat": 4,
 "nbformat_minor": 0
}