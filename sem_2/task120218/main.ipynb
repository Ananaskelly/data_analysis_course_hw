{
 "cells": [
  {
   "cell_type": "markdown",
   "metadata": {
    "collapsed": true
   },
   "source": [
    "### Task_1"
   ]
  },
  {
   "cell_type": "code",
   "execution_count": 1,
   "metadata": {},
   "outputs": [
    {
     "name": "stdout",
     "output_type": "stream",
     "text": [
      "    0    1   2   3      4     5      6   7    8\n0   6  148  72  35    0.0  33.6  0.627  50  1.0\n1   1   85  66  29    0.0  26.6  0.351  31  0.0\n2   8  183  64   0    0.0  23.3  0.672  32  1.0\n3   1   89  66  23   94.0  28.1  0.167  21  0.0\n4   0  137  40  35  168.0  43.1  2.288  33  1.0\n5   5  116  74   0    0.0  25.6  0.201  30  0.0\n6   3   78  50  32   88.0  31.0  0.248  26  1.0\n7  10  115   0   0    0.0  35.3  0.134  29  0.0\n8   2  197  70  45  543.0  30.5  0.158  53  1.0\n9   8  125  96   0    0.0   0.0  0.232  54  1.0\nDataFrame shape: (768, 9)\n"
     ]
    }
   ],
   "source": [
    "import pandas as pd\n",
    "from sem_2.task120218.task_0 import csv_fr\n",
    "\n",
    "\n",
    "path_to_bug_file = 'sem_2/data/some_data.data'\n",
    "csv_fr.fix_csv(path_to_bug_file)\n",
    "\n",
    "fixed_df = pd.read_csv('output.csv', sep=',')\n",
    "\n",
    "print(fixed_df.head(10))\n",
    "print('DataFrame shape: {}'.format(fixed_df.shape))"
   ]
  },
  {
   "cell_type": "markdown",
   "metadata": {},
   "source": [
    "### Task_2"
   ]
  },
  {
   "cell_type": "code",
   "execution_count": 1,
   "metadata": {},
   "outputs": [
    {
     "name": "stdout",
     "output_type": "stream",
     "text": [
      "Mode for column 1:\n       1\n0  24.0\nDescription:\n             0         1         2         3         4         5         6         7         8    \\\ncount  1.813e+03  1813.000  1813.000  1813.000  1813.000  1813.000  1813.000  1813.000  1813.000   \nmean   2.003e+07    33.300    32.920    42.682    26.526    18.668    31.833    21.478    58.800   \nstd    2.087e+04    18.522    10.424    28.959    14.281     8.981    11.317    13.573    25.268   \nmin    2.000e+07    10.850    18.030    13.120    10.230     8.310    10.900     6.150    23.230   \n25%    2.001e+07    23.200    27.770    20.060    16.470    12.510    23.300    11.920    39.750   \n50%    2.003e+07    29.420    31.020    27.830    22.350    14.550    34.560    17.060    53.440   \n75%    2.005e+07    34.990    34.810    63.750    26.740    22.360    39.000    26.250    76.880   \nmax    2.007e+07   159.000    86.000   144.190    70.630    45.250    72.050    73.250   153.930   \n\n            9      ...          150       151       152       153       154       155       156  \\\ncount  1813.000    ...     1813.000  1813.000  1813.000  1813.000  1813.000  1813.000  1813.000   \nmean     40.011    ...       68.927    19.583    51.118    63.789    52.093    28.102    43.467   \nstd      10.095    ...       17.376    11.753     9.085    27.404     4.612    10.921    52.343   \nmin      23.010    ...       42.090     7.030    31.000    26.220    42.490     7.620     8.110   \n25%      31.650    ...       54.000    13.170    45.250    45.560    48.150    19.810    19.440   \n50%      39.760    ...       63.500    15.710    50.110    53.500    52.460    25.500    31.550   \n75%      45.850    ...       84.650    20.910    58.980    76.100    55.270    36.110    37.850   \nmax      73.060    ...      120.870    91.750    73.000   154.350    68.500    55.050   475.000   \n\n             157       158       159  \ncount   1813.000  1813.000  1813.000  \nmean   10277.109  1182.913  2195.803  \nstd     1025.236   170.449   733.813  \nmin     7286.270   776.760     0.000  \n25%     9820.830  1087.120  1838.020  \n50%    10449.140  1183.740  2053.270  \n75%    10830.000  1299.540  2301.810  \nmax    12786.640  1527.460  5048.620  \n\n[8 rows x 160 columns]\n"
     ]
    }
   ],
   "source": [
    "from sem_2.task120218.task_1 import csv_st\n",
    "\n",
    "\n",
    "path_to_file = 'sem_2/data/stockvalues.csv'\n",
    "csv_st.estimate(path_to_file)"
   ]
  },
  {
   "cell_type": "markdown",
   "metadata": {},
   "source": [
    "### Task_3"
   ]
  },
  {
   "cell_type": "code",
   "execution_count": 1,
   "metadata": {
    "collapsed": true
   },
   "outputs": [],
   "source": [
    "from sem_2.task120218.task_2 import csv_fl\n",
    "\n",
    "\n",
    "path_to_bug_file = 'sem_2/data/travel_times.csv'\n",
    "csv_fl.fix_csv(path_to_bug_file)"
   ]
  }
 ],
 "metadata": {
  "kernelspec": {
   "display_name": "Python 2",
   "language": "python",
   "name": "python2"
  },
  "language_info": {
   "codemirror_mode": {
    "name": "ipython",
    "version": 2.0
   },
   "file_extension": ".py",
   "mimetype": "text/x-python",
   "name": "python",
   "nbconvert_exporter": "python",
   "pygments_lexer": "ipython2",
   "version": "2.7.6"
  }
 },
 "nbformat": 4,
 "nbformat_minor": 0
}