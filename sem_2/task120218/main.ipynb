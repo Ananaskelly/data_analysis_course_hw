{
 "cells": [
  {
   "cell_type": "markdown",
   "metadata": {
    "collapsed": true
   },
   "source": [
    "### Task_1"
   ]
  },
  {
   "cell_type": "code",
   "execution_count": 1,
   "metadata": {},
   "outputs": [
    {
     "name": "stdout",
     "output_type": "stream",
     "text": [
      "    0    1   2   3      4     5      6   7    8\n0   6  148  72  35    0.0  33.6  0.627  50  1.0\n1   1   85  66  29    0.0  26.6  0.351  31  0.0\n2   8  183  64   0    0.0  23.3  0.672  32  1.0\n3   1   89  66  23   94.0  28.1  0.167  21  0.0\n4   0  137  40  35  168.0  43.1  2.288  33  1.0\n5   5  116  74   0    0.0  25.6  0.201  30  0.0\n6   3   78  50  32   88.0  31.0  0.248  26  1.0\n7  10  115   0   0    0.0  35.3  0.134  29  0.0\n8   2  197  70  45  543.0  30.5  0.158  53  1.0\n9   8  125  96   0    0.0   0.0  0.232  54  1.0\nDataFrame shape: (768, 9)\n"
     ]
    }
   ],
   "source": [
    "import pandas as pd\n",
    "from sem_2.task120218.task_0 import csv_fr\n",
    "\n",
    "\n",
    "path_to_bug_file = 'sem_2/data/some_data.data'\n",
    "csv_fr.fix_csv(path_to_bug_file)\n",
    "\n",
    "fixed_df = pd.read_csv('output.csv', sep=',')\n",
    "\n",
    "print(fixed_df.head(10))\n",
    "print('DataFrame shape: {}'.format(fixed_df.shape))"
   ]
  },
  {
   "cell_type": "markdown",
   "metadata": {},
   "source": [
    "### Task_2"
   ]
  },
  {
   "cell_type": "code",
   "execution_count": 4,
   "metadata": {},
   "outputs": [
    {
     "name": "stdout",
     "output_type": "stream",
     "text": [
      "Mode for column 1:\n       1\n0  24.0\nDescription:\n                0            1            2            3            4    \\\ncount  1.813000e+03  1813.000000  1813.000000  1813.000000  1813.000000   \nmean   2.003209e+07    33.300381    32.920110    42.682157    26.525852   \nstd    2.086627e+04    18.522485    10.423961    28.959003    14.281066   \nmin    2.000010e+07    10.850000    18.030000    13.120000    10.230000   \n25%    2.001103e+07    23.200000    27.770000    20.060000    16.470000   \n50%    2.003082e+07    29.420000    31.020000    27.830000    22.350000   \n75%    2.005061e+07    34.990000    34.810000    63.750000    26.740000   \nmax    2.007033e+07   159.000000    86.000000   144.190000    70.630000   \n\n               5            6            7            8            9    \\\ncount  1813.000000  1813.000000  1813.000000  1813.000000  1813.000000   \nmean     18.667755    31.833183    21.477832    58.800414    40.011114   \nstd       8.981082    11.316919    13.572777    25.267946    10.094569   \nmin       8.310000    10.900000     6.150000    23.230000    23.010000   \n25%      12.510000    23.300000    11.920000    39.750000    31.650000   \n50%      14.550000    34.560000    17.060000    53.440000    39.760000   \n75%      22.360000    39.000000    26.250000    76.880000    45.850000   \nmax      45.250000    72.050000    73.250000   153.930000    73.060000   \n\n          ...               150          151          152          153  \\\ncount     ...       1813.000000  1813.000000  1813.000000  1813.000000   \nmean      ...         68.927220    19.582918    51.118428    63.788803   \nstd       ...         17.376277    11.753035     9.085148    27.404341   \nmin       ...         42.090000     7.030000    31.000000    26.220000   \n25%       ...         54.000000    13.170000    45.250000    45.560000   \n50%       ...         63.500000    15.710000    50.110000    53.500000   \n75%       ...         84.650000    20.910000    58.980000    76.100000   \nmax       ...        120.870000    91.750000    73.000000   154.350000   \n\n               154          155          156           157          158  \\\ncount  1813.000000  1813.000000  1813.000000   1813.000000  1813.000000   \nmean     52.093287    28.102057    43.466801  10277.109222  1182.913348   \nstd       4.611819    10.921350    52.343483   1025.235514   170.448775   \nmin      42.490000     7.620000     8.110000   7286.270000   776.760000   \n25%      48.150000    19.810000    19.440000   9820.830000  1087.120000   \n50%      52.460000    25.500000    31.550000  10449.140000  1183.740000   \n75%      55.270000    36.110000    37.850000  10830.000000  1299.540000   \nmax      68.500000    55.050000   475.000000  12786.640000  1527.460000   \n\n               159  \ncount  1813.000000  \nmean   2195.803403  \nstd     733.812666  \nmin       0.000000  \n25%    1838.020000  \n50%    2053.270000  \n75%    2301.810000  \nmax    5048.620000  \n\n[8 rows x 160 columns]\n"
     ]
    }
   ],
   "source": [
    "from sem_2.task120218.task_1 import csv_st\n",
    "\n",
    "\n",
    "path_to_file = 'sem_2/data/stockvalues.csv'\n",
    "csv_st.estimate(path_to_file)"
   ]
  },
  {
   "cell_type": "markdown",
   "metadata": {},
   "source": [
    "### Task_3"
   ]
  },
  {
   "cell_type": "code",
   "execution_count": 1,
   "metadata": {
    "collapsed": true
   },
   "outputs": [],
   "source": [
    "from sem_2.task120218.task_2 import csv_fl\n",
    "\n",
    "\n",
    "path_to_bug_file = 'sem_2/data/travel_times.csv'\n",
    "csv_fl.fix_csv(path_to_bug_file)"
   ]
  }
 ],
 "metadata": {
  "kernelspec": {
   "display_name": "Python 2",
   "language": "python",
   "name": "python2"
  },
  "language_info": {
   "codemirror_mode": {
    "name": "ipython",
    "version": 2.0
   },
   "file_extension": ".py",
   "mimetype": "text/x-python",
   "name": "python",
   "nbconvert_exporter": "python",
   "pygments_lexer": "ipython2",
   "version": "2.7.6"
  }
 },
 "nbformat": 4,
 "nbformat_minor": 0
}