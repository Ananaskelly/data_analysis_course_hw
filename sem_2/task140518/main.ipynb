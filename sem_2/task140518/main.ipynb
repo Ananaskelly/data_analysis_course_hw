{
 "cells": [
  {
   "cell_type": "code",
   "execution_count": 20,
   "metadata": {
    "collapsed": true
   },
   "outputs": [],
   "source": [
    "from sklearn import svm\n",
    "from sklearn import metrics\n",
    "from sklearn.datasets import load_digits\n",
    "import numpy as np\n",
    "import matplotlib.pyplot as plt\n",
    "\n",
    "\n",
    "digits = load_digits()\n",
    "x = digits.data\n",
    "y = digits.target\n",
    "\n",
    "set_size, feature_size = x.shape\n",
    "\n",
    "train_size = int(set_size*0.9)\n",
    "\n",
    "x_train = x[:train_size]\n",
    "x_test = x[train_size:]\n",
    "y_train = y[:train_size]\n",
    "y_test = y[train_size:]"
   ]
  },
  {
   "cell_type": "code",
   "execution_count": 22,
   "metadata": {},
   "outputs": [
    {
     "name": "stdout",
     "output_type": "stream",
     "text": [
      "accuracy: 0.4444444444444444\n"
     ]
    }
   ],
   "source": [
    "# one-against-one\n",
    "clf = svm.SVC(decision_function_shape='ovo')\n",
    "clf.fit(x_train, y_train)\n",
    "\n",
    "labels = clf.predict(x_test)\n",
    "\n",
    "print('accuracy: {}'.format(metrics.accuracy_score(y_test, labels)))"
   ]
  },
  {
   "cell_type": "code",
   "execution_count": 23,
   "metadata": {},
   "outputs": [
    {
     "name": "stdout",
     "output_type": "stream",
     "text": [
      "accuracy: 0.9\n"
     ]
    }
   ],
   "source": [
    "# one-vs-all\n",
    "lin_clf = svm.LinearSVC()\n",
    "lin_clf.fit(x_train, y_train)\n",
    "labels = lin_clf.predict(x_test)\n",
    "\n",
    "print('accuracy: {}'.format(metrics.accuracy_score(y_test, labels)))"
   ]
  },
  {
   "cell_type": "code",
   "execution_count": 24,
   "metadata": {},
   "outputs": [
    {
     "name": "stdout",
     "output_type": "stream",
     "text": [
      "accuracy: 0.45555555555555555\n"
     ]
    }
   ],
   "source": [
    "nu_clf = svm.NuSVC()\n",
    "nu_clf.fit(x_train, y_train)\n",
    "labels = nu_clf.predict(x_test)\n",
    "\n",
    "print('accuracy: {}'.format(metrics.accuracy_score(y_test, labels)))"
   ]
  },
  {
   "cell_type": "code",
   "execution_count": 33,
   "metadata": {},
   "outputs": [
    {
     "name": "stdout",
     "output_type": "stream",
     "text": [
      "accuracy: 0.1\n"
     ]
    },
    {
     "name": "stdout",
     "output_type": "stream",
     "text": [
      "accuracy: 0.45555555555555555\n"
     ]
    }
   ],
   "source": [
    "# different kernels\n",
    "clf = svm.SVC(decision_function_shape='ovo', kernel='sigmoid')\n",
    "clf.fit(x_train, y_train)\n",
    "\n",
    "labels = clf.predict(x_test)\n",
    "\n",
    "print('accuracy: {}'.format(metrics.accuracy_score(y_test, labels)))\n",
    "\n",
    "nu_clf = svm.NuSVC(kernel='rbf')\n",
    "nu_clf.fit(x_train, y_train)\n",
    "labels = nu_clf.predict(x_test)\n",
    "\n",
    "print('accuracy: {}'.format(metrics.accuracy_score(y_test, labels)))"
   ]
  },
  {
   "cell_type": "code",
   "execution_count": 34,
   "metadata": {},
   "outputs": [
    {
     "name": "stdout",
     "output_type": "stream",
     "text": [
      "accuracy: 0.4388888888888889\n"
     ]
    }
   ],
   "source": [
    "clf = svm.SVC(decision_function_shape='ovo', class_weight='balanced')\n",
    "clf.fit(x_train, y_train)\n",
    "\n",
    "labels = clf.predict(x_test)\n",
    "\n",
    "print('accuracy: {}'.format(metrics.accuracy_score(y_test, labels)))"
   ]
  },
  {
   "cell_type": "code",
   "execution_count": 35,
   "metadata": {},
   "outputs": [
    {
     "name": "stdout",
     "output_type": "stream",
     "text": [
      "accuracy: 0.45555555555555555\n"
     ]
    }
   ],
   "source": [
    "nu_clf = svm.NuSVC(kernel='rbf', class_weight='balanced')\n",
    "nu_clf.fit(x_train, y_train)\n",
    "labels = nu_clf.predict(x_test)\n",
    "\n",
    "print('accuracy: {}'.format(metrics.accuracy_score(y_test, labels)))"
   ]
  },
  {
   "cell_type": "code",
   "execution_count": 36,
   "metadata": {},
   "outputs": [
    {
     "name": "stdout",
     "output_type": "stream",
     "text": [
      "accuracy: 0.9166666666666666\n"
     ]
    }
   ],
   "source": [
    "lin_clf = svm.LinearSVC(class_weight='balanced')\n",
    "lin_clf.fit(x_train, y_train)\n",
    "labels = lin_clf.predict(x_test)\n",
    "\n",
    "print('accuracy: {}'.format(metrics.accuracy_score(y_test, labels)))"
   ]
  },
  {
   "cell_type": "code",
   "execution_count": null,
   "metadata": {},
   "outputs": [],
   "source": [
    ""
   ]
  }
 ],
 "metadata": {
  "kernelspec": {
   "display_name": "Python 2",
   "language": "python",
   "name": "python2"
  },
  "language_info": {
   "codemirror_mode": {
    "name": "ipython",
    "version": 2.0
   },
   "file_extension": ".py",
   "mimetype": "text/x-python",
   "name": "python",
   "nbconvert_exporter": "python",
   "pygments_lexer": "ipython2",
   "version": "2.7.6"
  }
 },
 "nbformat": 4,
 "nbformat_minor": 0
}