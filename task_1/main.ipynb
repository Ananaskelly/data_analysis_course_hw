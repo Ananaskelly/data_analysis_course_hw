{
 "cells": [
  {
   "cell_type": "code",
   "execution_count": 12,
   "metadata": {
    "collapsed": true
   },
   "outputs": [],
   "source": [
    "from task_1 import resize_util\n",
    "import matplotlib.pyplot as plt\n",
    "import os\n",
    "import time\n",
    "\n",
    "\n",
    "start_time = time.time()\n",
    "path = os.path.join(os.getcwd(), 'task_1', 'sample', 'pineapple.jpg')\n",
    "orig, res_img = resize_util.load_and_process(path, 50)\n",
    "\n",
    "plt.figure(1)\n",
    "plt.subplot(211)\n",
    "plt.title(\"Resized\")\n",
    "plt.imshow(res_img, cmap='gray')\n",
    "\n",
    "plt.figure(2)\n",
    "plt.subplot(212)\n",
    "plt.title(\"Original\")\n",
    "plt.imshow(orig, cmap='gray')\n",
    "plt.show()\n",
    "\n",
    "ex_time = time.time() - start_time\n",
    "# print('Time: ' + '{:f}'.format(ex_time))"
   ]
  }
 ],
 "metadata": {
  "kernelspec": {
   "display_name": "Python 2",
   "language": "python",
   "name": "python2"
  },
  "language_info": {
   "codemirror_mode": {
    "name": "ipython",
    "version": 2.0
   },
   "file_extension": ".py",
   "mimetype": "text/x-python",
   "name": "python",
   "nbconvert_exporter": "python",
   "pygments_lexer": "ipython2",
   "version": "2.7.6"
  }
 },
 "nbformat": 4,
 "nbformat_minor": 0
}