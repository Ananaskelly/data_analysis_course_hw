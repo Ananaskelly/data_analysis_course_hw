{
 "cells": [
  {
   "cell_type": "code",
   "execution_count": 2,
   "metadata": {
    "collapsed": true
   },
   "outputs": [],
   "source": [
    "import matplotlib.pyplot as plt\n",
    "import numpy as np\n",
    "import sys\n",
    "\n",
    "# path to project root\n",
    "sys.path.append('c:/users/ananasy/pycharmProjects/data_analysis/')\n",
    "\n",
    "from task_1 import data_handler\n",
    "from task_1 import utils"
   ]
  },
  {
   "cell_type": "code",
   "execution_count": null,
   "metadata": {},
   "outputs": [],
   "source": [
    "dh = data_handler.DataHandler()\n",
    "\n",
    "x_simple_train, y_simple_train = dh.get_simple_train_dataset()"
   ]
  },
  {
   "cell_type": "code",
   "execution_count": null,
   "metadata": {},
   "outputs": [],
   "source": [
    "def simple_case():\n",
    "    dim = 5\n",
    "    X2 = np.zeros((N, dim))\n",
    "    for i in range(dim):\n",
    "        X2[:, i] = t ** i\n",
    "    Y2 = Y1[:N]\n",
    "    \n",
    "    lambd = np.array((1e-7, 0.000001, 0.00001, 0.0001, 0.001, 0.01, 0.1, 1, 10))\n",
    "    w = np.array(())\n",
    "    w = ridge(X2, Y2, lambd).T\n",
    "    \n",
    "    ELOmin = 1000\n",
    "    lambdmin = 0\n",
    "    jmin = 0\n",
    "    elos = []\n",
    "    for j in range(len(lambd)):\n",
    "        H = np.dot(X2, np.dot((lambd[j]*np.eye(dim)+np.dot(X2.T,X2))**(-1),X2.T))\n",
    "        sum = 0\n",
    "        for i in range(N):\n",
    "            sum += ((Y2[i] - np.dot(X2[i].T, w[j])) / (1 - H[i][i])) ** 2\n",
    "        ELO = 1 / N * sum\n",
    "        elos.append(ELO)\n",
    "        if ELO < ELOmin:\n",
    "            jmin = j\n",
    "            ELOmin = ELO\n",
    "            lambdmin = lambd[j]\n",
    "    print(ELOmin, '   ', lambdmin, '     ',jmin )"
   ]
  }
 ],
 "metadata": {
  "kernelspec": {
   "display_name": "Python 2",
   "language": "python",
   "name": "python2"
  },
  "language_info": {
   "codemirror_mode": {
    "name": "ipython",
    "version": 2.0
   },
   "file_extension": ".py",
   "mimetype": "text/x-python",
   "name": "python",
   "nbconvert_exporter": "python",
   "pygments_lexer": "ipython2",
   "version": "2.7.6"
  }
 },
 "nbformat": 4,
 "nbformat_minor": 0
}